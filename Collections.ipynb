{
  "nbformat": 4,
  "nbformat_minor": 0,
  "metadata": {
    "colab": {
      "name": "Collections",
      "provenance": [],
      "authorship_tag": "ABX9TyPijFu1cqvaKGi3+vKEnmVS",
      "include_colab_link": true
    },
    "kernelspec": {
      "name": "python3",
      "display_name": "Python 3"
    },
    "language_info": {
      "name": "python"
    }
  },
  "cells": [
    {
      "cell_type": "markdown",
      "metadata": {
        "id": "view-in-github",
        "colab_type": "text"
      },
      "source": [
        "<a href=\"https://colab.research.google.com/github/ngntrgduc/learning-python/blob/master/Collections.ipynb\" target=\"_parent\"><img src=\"https://colab.research.google.com/assets/colab-badge.svg\" alt=\"Open In Colab\"/></a>"
      ]
    },
    {
      "cell_type": "markdown",
      "source": [
        "# Collections\n",
        "The collections module in Python implements specialized container datatypes providing alternatives to Python’s general purpose built-in containers, dict, list, set, and tuple.\n",
        "The following tools exist:\n",
        "- Counter : dict subclass for counting hashable objects\n",
        "- namedtuple : factory function for creating tuple subclasses with named fields\n",
        "- defaultdict : dict subclass that calls a factory function to supply missing values\n",
        "- OrderedDict : dict subclass that remembers the order entries were added\n",
        "- deque : list-like container with fast appends and pops on either end"
      ],
      "metadata": {
        "id": "BdzZdqsfFdSJ"
      }
    },
    {
      "cell_type": "markdown",
      "source": [
        "### Counter\n",
        "A counter is a container that stores elements as dictionary keys, and their counts are stored as dictionary values."
      ],
      "metadata": {
        "id": "w5nD_0r2_PUg"
      }
    },
    {
      "cell_type": "code",
      "execution_count": 24,
      "metadata": {
        "colab": {
          "base_uri": "https://localhost:8080/"
        },
        "id": "P2cqLtKY5Ura",
        "outputId": "a23c6b1d-d38a-4418-d4a9-282b08874d3c"
      },
      "outputs": [
        {
          "output_type": "stream",
          "name": "stdout",
          "text": [
            "Counter({'c': 8, 'a': 4, 'b': 3})\n",
            "dict_items([('a', 4), ('b', 3), ('c', 8)])\n",
            "dict_keys(['a', 'b', 'c'])\n",
            "dict_values([4, 3, 8])\n",
            "[('c', 8), ('a', 4)]\n",
            "['a', 'a', 'a', 'a', 'b', 'b', 'b', 'c', 'c', 'c', 'c', 'c', 'c', 'c', 'c']\n"
          ]
        }
      ],
      "source": [
        "from collections import Counter\n",
        "a = \"aaaabbbcccccccc\"\n",
        "b = Counter(a)\n",
        "print(b)\n",
        "print(b.items())\n",
        "print(b.keys())\n",
        "print(b.values())\n",
        "print(b.most_common(2))\n",
        "print(list(b.elements()))"
      ]
    },
    {
      "cell_type": "markdown",
      "source": [
        "### namedtuple\n",
        "namedtuples are easy to create, lightweight object types. They assign meaning to each position in a tuple and allow for more readable, self-documenting code. They can be used wherever regular tuples are used, and they add the ability to access fields by name instead of position index."
      ],
      "metadata": {
        "id": "8zi_ITAXDzDq"
      }
    },
    {
      "cell_type": "code",
      "source": [
        "from collections import namedtuple\n",
        "# create a namedtuple with its class name as string and its fields as string\n",
        "# fields have to be separated by comma or space in the given string\n",
        "Point = namedtuple('Point','x, y')\n",
        "pt = Point(1, -4)\n",
        "print(pt)\n",
        "print(pt._fields)\n",
        "print(type(pt))\n",
        "print(pt.x, pt.y)\n",
        "\n",
        "Person = namedtuple('Person','name, age')\n",
        "friend = Person(name='Tom', age=25)\n",
        "print(friend.name, friend.age)"
      ],
      "metadata": {
        "colab": {
          "base_uri": "https://localhost:8080/"
        },
        "id": "3LmT93H5D11X",
        "outputId": "efacc16a-be65-4f51-f90e-80e142fecd4b"
      },
      "execution_count": 21,
      "outputs": [
        {
          "output_type": "stream",
          "name": "stdout",
          "text": [
            "Point(x=1, y=-4)\n",
            "('x', 'y')\n",
            "<class '__main__.Point'>\n",
            "1 -4\n",
            "Tom 25\n"
          ]
        }
      ]
    },
    {
      "cell_type": "markdown",
      "source": [
        "### defaultdict\n",
        "The defaultdict is a container that's similar to the usual dict container, but the only difference is that a defaultdict will have a default value if that key has not been set yet. If you didn't use a defaultdict you'd have to check to see if that key exists, and if it doesn't, set it to what you want."
      ],
      "metadata": {
        "id": "auyvljnFCrSb"
      }
    },
    {
      "cell_type": "code",
      "source": [
        "from collections import defaultdict\n",
        "\n",
        "# initialize with a default integer value\n",
        "d = defaultdict(int)\n",
        "d['yellow'] = 1\n",
        "d['blue'] = 2\n",
        "print(d.items())\n",
        "print(d['green'])\n",
        "\n",
        "# initialize with a default list value\n",
        "d = defaultdict(list)\n",
        "s = [('yellow', 1), ('blue', 2), ('yellow', 3)]\n",
        "for k, v in s:\n",
        "    d[k].append(v)\n",
        "\n",
        "print(d.items())\n",
        "print(d['green'])"
      ],
      "metadata": {
        "colab": {
          "base_uri": "https://localhost:8080/"
        },
        "id": "ARy2dRuj-FyP",
        "outputId": "a02ebd0b-9031-4972-b1e4-43519298efbb"
      },
      "execution_count": 20,
      "outputs": [
        {
          "output_type": "stream",
          "name": "stdout",
          "text": [
            "dict_items([('yellow', 1), ('blue', 2)])\n",
            "0\n",
            "dict_items([('yellow', [1, 3]), ('blue', [2])])\n",
            "[]\n"
          ]
        }
      ]
    },
    {
      "cell_type": "markdown",
      "source": [
        "### OrderedDict\n",
        "OrderedDicts are just like regular dictionaries but they remember the order that items were inserted. When iterating over an ordered dictionary, the items are returned in the order their keys were first added. If a new entry overwrites an existing entry, the original insertion position is left unchanged. They have become less important now that the built-in dict class gained the ability to remember insertion order (guaranteed since Python 3.7). But some differences still remain, e.g. the OrderedDict is designed to be good at reordering operations.\n"
      ],
      "metadata": {
        "id": "8XLmGtsGFIzQ"
      }
    },
    {
      "cell_type": "code",
      "source": [
        "from collections import OrderedDict\n",
        "ordinary_dict = {}\n",
        "ordinary_dict['a'] = 1\n",
        "ordinary_dict['b'] = 2\n",
        "ordinary_dict['c'] = 3\n",
        "ordinary_dict['d'] = 4\n",
        "ordinary_dict['e'] = 5\n",
        "# this may be in orbitrary order prior to Python 3.7\n",
        "print(ordinary_dict)\n",
        "\n",
        "ordered_dict = OrderedDict()\n",
        "ordered_dict['a'] = 1\n",
        "ordered_dict['b'] = 2\n",
        "ordered_dict['c'] = 3\n",
        "ordered_dict['d'] = 4\n",
        "ordered_dict['e'] = 5\n",
        "print(ordered_dict)\n",
        "# same functionality as with ordinary dict, but always ordered\n",
        "for k, v in ordinary_dict.items():\n",
        "    print(k, v)"
      ],
      "metadata": {
        "colab": {
          "base_uri": "https://localhost:8080/"
        },
        "id": "sPqytY2BFFdS",
        "outputId": "379f8639-ca37-48b1-f99c-639ebf5b574b"
      },
      "execution_count": 27,
      "outputs": [
        {
          "output_type": "stream",
          "name": "stdout",
          "text": [
            "{'a': 1, 'b': 2, 'c': 3, 'd': 4, 'e': 5}\n",
            "OrderedDict([('a', 1), ('b', 2), ('c', 3), ('d', 4), ('e', 5)])\n",
            "a 1\n",
            "b 2\n",
            "c 3\n",
            "d 4\n",
            "e 5\n"
          ]
        }
      ]
    },
    {
      "cell_type": "markdown",
      "source": [
        "### deque\n",
        "A deque is a double-ended queue. It can be used to add or remove elements from both ends. Deques support thread safe, memory efficient appends and pops from either side of the deque with approximately the same O(1) performance in either direction. The more commonly used stacks and queues are degenerate forms of deques, where the inputs and outputs are restricted to a single end."
      ],
      "metadata": {
        "id": "VWJYMMIaETpg"
      }
    },
    {
      "cell_type": "code",
      "source": [
        "from collections import deque\n",
        "d = deque()\n",
        "\n",
        "# append() : add elements to the right end \n",
        "d.append('a')\n",
        "d.append('b')\n",
        "print(d)\n",
        "\n",
        "# appendleft() : add elements to the left end \n",
        "d.appendleft('c')\n",
        "print(d)\n",
        "\n",
        "# pop() : return and remove elements from the right\n",
        "print(d.pop())\n",
        "print(d)\n",
        "\n",
        "# popleft() : return and remove elements from the left\n",
        "print(d.popleft())\n",
        "print(d)\n",
        "\n",
        "# clear() : remove all elements\n",
        "d.clear()\n",
        "\n",
        "d = deque(['a', 'b', 'c', 'd'])\n",
        "\n",
        "# extend at right or left side\n",
        "d.extend(['e', 'f', 'g'])\n",
        "d.extendleft(['h', 'i', 'j']) # note that 'j' is now at the left most position\n",
        "print(d)\n",
        "\n",
        "# count(x) : returns the number of found elements\n",
        "print(d.count('h'))\n",
        "\n",
        "# rotate 1 positions to the right\n",
        "d.rotate(1)\n",
        "print(d)\n",
        "\n",
        "# rotate 2 positions to the left\n",
        "d.rotate(-2)\n",
        "print(d)"
      ],
      "metadata": {
        "colab": {
          "base_uri": "https://localhost:8080/"
        },
        "id": "FCYeSHjxEVrh",
        "outputId": "85bbbb96-f022-49b1-a954-1ca06b96672e"
      },
      "execution_count": 26,
      "outputs": [
        {
          "output_type": "stream",
          "name": "stdout",
          "text": [
            "deque(['a', 'b'])\n",
            "deque(['c', 'a', 'b'])\n",
            "b\n",
            "deque(['c', 'a'])\n",
            "c\n",
            "deque(['a'])\n",
            "deque(['j', 'i', 'h', 'a', 'b', 'c', 'd', 'e', 'f', 'g'])\n",
            "1\n",
            "deque(['g', 'j', 'i', 'h', 'a', 'b', 'c', 'd', 'e', 'f'])\n",
            "deque(['i', 'h', 'a', 'b', 'c', 'd', 'e', 'f', 'g', 'j'])\n"
          ]
        }
      ]
    }
  ]
}