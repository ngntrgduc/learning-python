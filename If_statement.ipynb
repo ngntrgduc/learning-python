{
  "nbformat": 4,
  "nbformat_minor": 0,
  "metadata": {
    "colab": {
      "name": "If statement",
      "provenance": [],
      "authorship_tag": "ABX9TyOV83lkE/gK3xkk6y18oqVE",
      "include_colab_link": true
    },
    "kernelspec": {
      "name": "python3",
      "display_name": "Python 3"
    },
    "language_info": {
      "name": "python"
    }
  },
  "cells": [
    {
      "cell_type": "markdown",
      "metadata": {
        "id": "view-in-github",
        "colab_type": "text"
      },
      "source": [
        "<a href=\"https://colab.research.google.com/github/sanshironagato/learning-python/blob/master/If_statement.ipynb\" target=\"_parent\"><img src=\"https://colab.research.google.com/assets/colab-badge.svg\" alt=\"Open In Colab\"/></a>"
      ]
    },
    {
      "cell_type": "code",
      "execution_count": null,
      "metadata": {
        "colab": {
          "base_uri": "https://localhost:8080/"
        },
        "id": "5GhBQQK8bqym",
        "outputId": "64593cf5-7436-4622-c2d7-161ef069cbd3"
      },
      "outputs": [
        {
          "output_type": "stream",
          "name": "stdout",
          "text": [
            "2\n",
            "Odd\n"
          ]
        }
      ],
      "source": [
        "a = int(input())\n",
        "if (a % 2 == 0):\n",
        "    print(\"Odd\")\n",
        "else: \n",
        "    print(\"Even\")"
      ]
    },
    {
      "cell_type": "code",
      "source": [
        "b = int(input())\n",
        "if (a < 0):\n",
        "    print(\"Negative\")\n",
        "elif (a == 0):\n",
        "    print(\"Nothing change\")\n",
        "else:\n",
        "    print(\"Positive\")"
      ],
      "metadata": {
        "colab": {
          "base_uri": "https://localhost:8080/"
        },
        "id": "QJux_ZpReiQ0",
        "outputId": "d433e399-41d5-4574-a8da-de858fbdba9d"
      },
      "execution_count": null,
      "outputs": [
        {
          "output_type": "stream",
          "name": "stdout",
          "text": [
            "3\n",
            "Positive\n"
          ]
        }
      ]
    }
  ]
}