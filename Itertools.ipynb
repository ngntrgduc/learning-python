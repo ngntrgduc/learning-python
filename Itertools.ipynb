{
  "nbformat": 4,
  "nbformat_minor": 0,
  "metadata": {
    "colab": {
      "name": "Itertools",
      "provenance": [],
      "authorship_tag": "ABX9TyPk784CdrNrytPCM9jA6RS4",
      "include_colab_link": true
    },
    "kernelspec": {
      "name": "python3",
      "display_name": "Python 3"
    },
    "language_info": {
      "name": "python"
    }
  },
  "cells": [
    {
      "cell_type": "markdown",
      "metadata": {
        "id": "view-in-github",
        "colab_type": "text"
      },
      "source": [
        "<a href=\"https://colab.research.google.com/github/ngntrgduc/learning-python/blob/master/Itertools.ipynb\" target=\"_parent\"><img src=\"https://colab.research.google.com/assets/colab-badge.svg\" alt=\"Open In Colab\"/></a>"
      ]
    },
    {
      "cell_type": "markdown",
      "source": [
        "# Itertools"
      ],
      "metadata": {
        "id": "AlagsG8nL9bV"
      }
    },
    {
      "cell_type": "code",
      "execution_count": null,
      "metadata": {
        "colab": {
          "base_uri": "https://localhost:8080/"
        },
        "id": "ljyp4RwMJ1uV",
        "outputId": "35b06206-e3db-4ba0-99af-89496a22665a"
      },
      "outputs": [
        {
          "output_type": "stream",
          "name": "stdout",
          "text": [
            "<itertools.permutations object at 0x7f9a782daa10>\n",
            "[(1, 2, 3, 4), (1, 2, 4, 3), (1, 3, 2, 4), (1, 3, 4, 2), (1, 4, 2, 3), (1, 4, 3, 2), (2, 1, 3, 4), (2, 1, 4, 3), (2, 3, 1, 4), (2, 3, 4, 1), (2, 4, 1, 3), (2, 4, 3, 1), (3, 1, 2, 4), (3, 1, 4, 2), (3, 2, 1, 4), (3, 2, 4, 1), (3, 4, 1, 2), (3, 4, 2, 1), (4, 1, 2, 3), (4, 1, 3, 2), (4, 2, 1, 3), (4, 2, 3, 1), (4, 3, 1, 2), (4, 3, 2, 1)]\n",
            "[(1, 2), (1, 3), (1, 4), (2, 1), (2, 3), (2, 4), (3, 1), (3, 2), (3, 4), (4, 1), (4, 2), (4, 3)]\n"
          ]
        }
      ],
      "source": [
        "from itertools import permutations\n",
        "a = [1, 2, 3, 4]\n",
        "permu = permutations(a)\n",
        "print(permu)\n",
        "print(list(permu))\n",
        "\n",
        "permu = permutations(a, 2)\n",
        "print(list(permu))"
      ]
    },
    {
      "cell_type": "code",
      "source": [
        "from itertools import combinations, combinations_with_replacement\n",
        "a = [1, 2, 3, 4]\n",
        "comb = combinations(a, 2)\n",
        "print(list(comb))\n",
        "\n",
        "comp_wr = combinations_with_replacement(a, 2)\n",
        "print(list(comp_wr))\n"
      ],
      "metadata": {
        "colab": {
          "base_uri": "https://localhost:8080/"
        },
        "id": "y454pIshLbr2",
        "outputId": "1e244286-1200-4cf5-a0ec-7e0328d03962"
      },
      "execution_count": null,
      "outputs": [
        {
          "output_type": "stream",
          "name": "stdout",
          "text": [
            "[(1, 2), (1, 3), (1, 4), (2, 3), (2, 4), (3, 4)]\n",
            "[(1, 1), (1, 2), (1, 3), (1, 4), (2, 2), (2, 3), (2, 4), (3, 3), (3, 4), (4, 4)]\n"
          ]
        }
      ]
    },
    {
      "cell_type": "code",
      "source": [
        "from itertools import accumulate\n",
        "a = [1, 2, 3, 4]\n",
        "acc = list(accumulate(a))\n",
        "print(a)\n",
        "print(acc)\n",
        "print(acc[-1])\n",
        "\n",
        "import operator\n",
        "acc = accumulate([1,2,3,4], func=operator.mul)\n",
        "print(list(acc))\n",
        "\n",
        "acc = list(accumulate([1,5,2,6,3,4], func=max))\n",
        "print(acc)\n",
        "print(acc[-1])\n",
        "print(max(acc))"
      ],
      "metadata": {
        "colab": {
          "base_uri": "https://localhost:8080/"
        },
        "id": "OiNnvyzHL8HN",
        "outputId": "7d9aa46d-477e-4c03-b776-aef2f81de377"
      },
      "execution_count": null,
      "outputs": [
        {
          "output_type": "stream",
          "name": "stdout",
          "text": [
            "[1, 2, 3, 4]\n",
            "[1, 3, 6, 10]\n",
            "10\n",
            "[1, 2, 6, 24]\n",
            "[1, 5, 5, 6, 6, 6]\n",
            "6\n",
            "6\n"
          ]
        }
      ]
    },
    {
      "cell_type": "code",
      "source": [
        "from itertools import groupby\n",
        "\n",
        "def smaller_than_3(x):\n",
        "    return x < 3\n",
        "\n",
        "group_obj = groupby([0, 1, 2, 3, 4, 5], key=smaller_than_3)\n",
        "for key, group in group_obj:\n",
        "    print(key, list(group))\n",
        "    \n",
        "group_obj = groupby([0, 1, 2, 3, 4, 5], key=lambda x: x < 3)\n",
        "for key, group in group_obj:\n",
        "    print(key, list(group))\n",
        "\n",
        "persons = [{'name': 'Tim', 'age': 25}, {'name': 'Dan', 'age': 25}, \n",
        "           {'name': 'Lisa', 'age': 27}, {'name': 'Claire', 'age': 28}]\n",
        "\n",
        "for key, group in groupby(persons, key=lambda x: x['age']):\n",
        "    print(key, list(group))"
      ],
      "metadata": {
        "colab": {
          "base_uri": "https://localhost:8080/"
        },
        "id": "iT49r_J0N_fc",
        "outputId": "960dec00-777a-4734-bd6d-143ca8877a5a"
      },
      "execution_count": null,
      "outputs": [
        {
          "output_type": "stream",
          "name": "stdout",
          "text": [
            "True [0, 1, 2]\n",
            "False [3, 4, 5]\n",
            "True [0, 1, 2]\n",
            "False [3, 4, 5]\n",
            "25 [{'name': 'Tim', 'age': 25}, {'name': 'Dan', 'age': 25}]\n",
            "27 [{'name': 'Lisa', 'age': 27}]\n",
            "28 [{'name': 'Claire', 'age': 28}]\n"
          ]
        }
      ]
    },
    {
      "cell_type": "code",
      "source": [
        "from itertools import count, cycle, repeat\n",
        "for i in count(10):\n",
        "    print(i, end = \" \")\n",
        "    if  i >= 20:\n",
        "        break\n",
        "\n",
        "# cycle(iterable) : cycle infinitely through an iterable\n",
        "print(\"\")\n",
        "sum = 0\n",
        "for i in cycle([1, 2, 3]):\n",
        "    print(i, end = \" \")\n",
        "    sum += i\n",
        "    if sum >= 12:\n",
        "        break\n",
        "\n",
        "# repeat(x): repeat x infinitely or n times\n",
        "print(\"\")\n",
        "for i in repeat(\"A\", 3):\n",
        "    print(i, end = \" \")"
      ],
      "metadata": {
        "colab": {
          "base_uri": "https://localhost:8080/"
        },
        "id": "UkRsGXnLOpR7",
        "outputId": "2bf2aab9-24c8-4b0c-9653-89db121cb1a2"
      },
      "execution_count": null,
      "outputs": [
        {
          "output_type": "stream",
          "name": "stdout",
          "text": [
            "10 11 12 13 14 15 16 17 18 19 20 \n",
            "1 2 3 1 2 3 \n",
            "A A A "
          ]
        }
      ]
    },
    {
      "cell_type": "code",
      "source": [
        "from itertools import chain\n",
        "a = 'ABC'\n",
        "b = 'DEF'\n",
        "c = chain(a, b)\n",
        "print(c)\n",
        "print(list(c))\n",
        "\n",
        "print(list(chain([1, 2, 3], [4, 5, 6])))"
      ],
      "metadata": {
        "id": "0tGLQnsiHDW2",
        "outputId": "d8c2d06f-32d7-4d4d-ddd9-f275415f686b",
        "colab": {
          "base_uri": "https://localhost:8080/"
        }
      },
      "execution_count": 5,
      "outputs": [
        {
          "output_type": "stream",
          "name": "stdout",
          "text": [
            "<itertools.chain object at 0x7fdf3865f9d0>\n",
            "['A', 'B', 'C', 'D', 'E', 'F']\n",
            "[1, 2, 3, 4, 5, 6]\n"
          ]
        }
      ]
    }
  ]
}