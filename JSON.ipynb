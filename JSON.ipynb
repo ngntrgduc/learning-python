{
  "nbformat": 4,
  "nbformat_minor": 0,
  "metadata": {
    "colab": {
      "name": "JSON.ipynb",
      "provenance": [],
      "mount_file_id": "1wOzgvMj7n8LC4-5VBx-yXdFaJ8EycRyp",
      "authorship_tag": "ABX9TyPViryE9b4tOC+DyoBBuoXk",
      "include_colab_link": true
    },
    "kernelspec": {
      "name": "python3",
      "display_name": "Python 3"
    },
    "language_info": {
      "name": "python"
    }
  },
  "cells": [
    {
      "cell_type": "markdown",
      "metadata": {
        "id": "view-in-github",
        "colab_type": "text"
      },
      "source": [
        "<a href=\"https://colab.research.google.com/github/ngntrgduc/learning-python/blob/master/JSON.ipynb\" target=\"_parent\"><img src=\"https://colab.research.google.com/assets/colab-badge.svg\" alt=\"Open In Colab\"/></a>"
      ]
    },
    {
      "cell_type": "code",
      "execution_count": 2,
      "metadata": {
        "id": "jH83HFDY4FiI"
      },
      "outputs": [],
      "source": [
        "import json"
      ]
    },
    {
      "cell_type": "code",
      "source": [
        "# Python JSON to dict\n",
        "person = '{\"name\": \"Bob\", \"languages\": [\"English\", \"French\"]}'\n",
        "# If you have a JSON string, you can parse it by using the json.loads()\n",
        "person_dict = json.loads(person)\n",
        "print( person_dict)"
      ],
      "metadata": {
        "colab": {
          "base_uri": "https://localhost:8080/"
        },
        "id": "H3qDArna4T9w",
        "outputId": "09328871-0c93-4837-d6fa-19375250cfa0"
      },
      "execution_count": 3,
      "outputs": [
        {
          "output_type": "stream",
          "name": "stdout",
          "text": [
            "{'name': 'Bob', 'languages': ['English', 'French']}\n"
          ]
        }
      ]
    },
    {
      "cell_type": "code",
      "source": [
        "data = json.load(open('/content/drive/MyDrive/Data Science/Data/test_JSON.json'))\n",
        "\n",
        "for i in data:\n",
        "    print(i + \":\", data[i])"
      ],
      "metadata": {
        "colab": {
          "base_uri": "https://localhost:8080/"
        },
        "id": "Z92awTqaG9yS",
        "outputId": "b8b1fee3-d748-422e-9865-fbb703589df5"
      },
      "execution_count": 4,
      "outputs": [
        {
          "output_type": "stream",
          "name": "stdout",
          "text": [
            "array: [1, 2, 3]\n",
            "boolean: True\n",
            "string: Hello World\n"
          ]
        }
      ]
    },
    {
      "cell_type": "code",
      "source": [
        "# Convert from Python to JSON\n",
        "py = {\n",
        "    \"name\": [\"hello\", \"world\"], \n",
        "    \"age\": 19\n",
        "}\n",
        "print(json.dumps(py))\n",
        "\n",
        "print(json.dumps(py, indent=4))"
      ],
      "metadata": {
        "colab": {
          "base_uri": "https://localhost:8080/"
        },
        "id": "FmMZDThNIc6r",
        "outputId": "28b8577d-2a7d-4521-e914-fa91cd112d94"
      },
      "execution_count": 5,
      "outputs": [
        {
          "output_type": "stream",
          "name": "stdout",
          "text": [
            "{\"name\": [\"hello\", \"world\"], \"age\": 19}\n",
            "{\n",
            "    \"name\": [\n",
            "        \"hello\",\n",
            "        \"world\"\n",
            "    ],\n",
            "    \"age\": 19\n",
            "}\n"
          ]
        }
      ]
    },
    {
      "cell_type": "markdown",
      "source": [
        "#### When convert from Python to JSON, Python objects are converted into the JSON (JavaScript) equivalent:\n",
        "\n",
        "|Python|JSON|\n",
        "|--|--|\n",
        "|dict\t|Object|\n",
        "|list\t|Array|\n",
        "|tuple\t|Array|\n",
        "|str\t|String|\n",
        "|int\t|Number|\n",
        "|float\t|Number|\n",
        "|True\t|true|\n",
        "|False\t|false|\n",
        "|None\t|null|"
      ],
      "metadata": {
        "id": "85SzyqzlJW0v"
      }
    },
    {
      "cell_type": "code",
      "source": [
        "# Writing JSON to a file\n",
        "person = {\n",
        "    \"name\": \"Bob\",\n",
        "    \"age\": 32\n",
        "}\n",
        "\n",
        "with open('person.json', 'w') as json_file:\n",
        "  json.dump(person, json_file)"
      ],
      "metadata": {
        "id": "c6SqtZWKNn0J"
      },
      "execution_count": 6,
      "outputs": []
    }
  ]
}