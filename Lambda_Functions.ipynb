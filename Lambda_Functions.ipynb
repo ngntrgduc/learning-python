{
  "nbformat": 4,
  "nbformat_minor": 0,
  "metadata": {
    "colab": {
      "name": "Lambda Functions",
      "provenance": [],
      "authorship_tag": "ABX9TyMO8KYg1aBMgP7Q3zuSkEqr",
      "include_colab_link": true
    },
    "kernelspec": {
      "name": "python3",
      "display_name": "Python 3"
    },
    "language_info": {
      "name": "python"
    }
  },
  "cells": [
    {
      "cell_type": "markdown",
      "metadata": {
        "id": "view-in-github",
        "colab_type": "text"
      },
      "source": [
        "<a href=\"https://colab.research.google.com/github/ngntrgduc/learning-python/blob/master/Lambda_Functions.ipynb\" target=\"_parent\"><img src=\"https://colab.research.google.com/assets/colab-badge.svg\" alt=\"Open In Colab\"/></a>"
      ]
    },
    {
      "cell_type": "code",
      "execution_count": 4,
      "metadata": {
        "id": "c6EdO5PrPkK_",
        "colab": {
          "base_uri": "https://localhost:8080/"
        },
        "outputId": "7b2ca19f-08a0-4b25-d2b1-3e76eb00445a"
      },
      "outputs": [
        {
          "output_type": "stream",
          "name": "stdout",
          "text": [
            "4\n",
            "6\n",
            "8\n"
          ]
        }
      ],
      "source": [
        "add2 = lambda x: x + 2\n",
        "print(add2(2))\n",
        "print(add2(4))\n",
        "\n",
        "mult = lambda x, y: x * y\n",
        "print(mult(2, 4))"
      ]
    },
    {
      "cell_type": "code",
      "source": [
        "# Lamdba inside another function\n",
        "def myfunc(n):\n",
        "    return lambda x: x * n\n",
        "\n",
        "doubler = myfunc(2)\n",
        "print(doubler(6))\n",
        "\n",
        "tripler = myfunc(3)\n",
        "print(tripler(6))"
      ],
      "metadata": {
        "colab": {
          "base_uri": "https://localhost:8080/"
        },
        "id": "YEOilhV4J7Tn",
        "outputId": "6622c851-fd11-4f9e-eacc-55d830eea901"
      },
      "execution_count": 12,
      "outputs": [
        {
          "output_type": "stream",
          "name": "stdout",
          "text": [
            "12\n",
            "18\n"
          ]
        }
      ]
    },
    {
      "cell_type": "code",
      "source": [
        "a  = [1, 2, 3, 4, 5, 6]\n",
        "b = list(map(lambda x: x * 2 , a))\n",
        "print(b)"
      ],
      "metadata": {
        "colab": {
          "base_uri": "https://localhost:8080/"
        },
        "id": "1E78H115KDWu",
        "outputId": "b68375e4-8718-430c-d4c3-81b237127785"
      },
      "execution_count": 7,
      "outputs": [
        {
          "output_type": "stream",
          "name": "stdout",
          "text": [
            "[2, 4, 6, 8, 10, 12]\n"
          ]
        }
      ]
    },
    {
      "cell_type": "code",
      "source": [
        "a = [1, 2, 3, 4, 5, 6, 7, 8]\n",
        "b = list(filter(lambda x: x > 3, a))\n",
        "print(b)"
      ],
      "metadata": {
        "colab": {
          "base_uri": "https://localhost:8080/"
        },
        "id": "uBeWDRj4KOXw",
        "outputId": "4296f0eb-38d0-4790-ce9d-9318d43cb827"
      },
      "execution_count": 11,
      "outputs": [
        {
          "output_type": "stream",
          "name": "stdout",
          "text": [
            "[4, 5, 6, 7, 8]\n"
          ]
        }
      ]
    },
    {
      "cell_type": "markdown",
      "source": [
        "# reduce\n",
        "`reduce(func, seq)`, repeatedly applies the func to the elements and returns a single value.\n",
        "`func` takes 2 arguments."
      ],
      "metadata": {
        "id": "kGWRYFt2LDap"
      }
    },
    {
      "cell_type": "code",
      "source": [
        "from functools import reduce\n",
        "a = [1, 2, 3, 4]\n",
        "product = reduce(lambda x, y: x*y, a)\n",
        "print(product)\n",
        "sum = reduce(lambda x, y: x+y, a)\n",
        "print(sum)"
      ],
      "metadata": {
        "colab": {
          "base_uri": "https://localhost:8080/"
        },
        "id": "Ia1lrDwlLJDO",
        "outputId": "3b34f59e-467a-45d3-842c-6f09b1dbe1aa"
      },
      "execution_count": 10,
      "outputs": [
        {
          "output_type": "stream",
          "name": "stdout",
          "text": [
            "24\n",
            "10\n"
          ]
        }
      ]
    }
  ]
}