{
  "nbformat": 4,
  "nbformat_minor": 0,
  "metadata": {
    "colab": {
      "name": "Quick Sort.ipynb",
      "provenance": [],
      "authorship_tag": "ABX9TyNZ3ZZOhXUnm2doZETt/j2j",
      "include_colab_link": true
    },
    "kernelspec": {
      "name": "python3",
      "display_name": "Python 3"
    },
    "language_info": {
      "name": "python"
    }
  },
  "cells": [
    {
      "cell_type": "markdown",
      "metadata": {
        "id": "view-in-github",
        "colab_type": "text"
      },
      "source": [
        "<a href=\"https://colab.research.google.com/github/sanshironagato/learning-python/blob/master/Quick_Sort.ipynb\" target=\"_parent\"><img src=\"https://colab.research.google.com/assets/colab-badge.svg\" alt=\"Open In Colab\"/></a>"
      ]
    },
    {
      "cell_type": "code",
      "execution_count": 2,
      "metadata": {
        "id": "rJ1uA0WXbzvV"
      },
      "outputs": [],
      "source": [
        "def quicksort(array):\n",
        "\tif len(array) < 2:\n",
        "\t\treturn array \n",
        "\telse:\n",
        "\t\tpivot = array[0] \n",
        "\t\t\n",
        "\t\tprint(\"array = \", array)\n",
        "\t\tprint(\"pivot = \", pivot)\n",
        "\n",
        "\t\tless = [i for i in array[1:] if i <= pivot]\n",
        "\t\t\n",
        "\t\tgreater = [i for i in array[1:] if i > pivot]\n",
        "\t\t\n",
        "\t\tprint(\"less than pivot = \", less)\n",
        "\t\tprint(\"greater than pivot = \", greater, \"\\n\") \n",
        "\t\t\n",
        "\t\treturn quicksort(less) + [pivot] + quicksort(greater)"
      ]
    },
    {
      "cell_type": "code",
      "source": [
        "print(quicksort([6, 5, 2, 3, 4, 1, 10, 7, 9, 8]))"
      ],
      "metadata": {
        "colab": {
          "base_uri": "https://localhost:8080/"
        },
        "id": "vvA-aK6DdX2i",
        "outputId": "f80732cb-feb5-4dbb-9f7f-9ddead4da8d2"
      },
      "execution_count": 3,
      "outputs": [
        {
          "output_type": "stream",
          "name": "stdout",
          "text": [
            "array =  [6, 5, 2, 3, 4, 1, 10, 7, 9, 8]\n",
            "pivot =  6\n",
            "less than pivot =  [5, 2, 3, 4, 1]\n",
            "greater than pivot =  [10, 7, 9, 8] \n",
            "\n",
            "array =  [5, 2, 3, 4, 1]\n",
            "pivot =  5\n",
            "less than pivot =  [2, 3, 4, 1]\n",
            "greater than pivot =  [] \n",
            "\n",
            "array =  [2, 3, 4, 1]\n",
            "pivot =  2\n",
            "less than pivot =  [1]\n",
            "greater than pivot =  [3, 4] \n",
            "\n",
            "array =  [3, 4]\n",
            "pivot =  3\n",
            "less than pivot =  []\n",
            "greater than pivot =  [4] \n",
            "\n",
            "array =  [10, 7, 9, 8]\n",
            "pivot =  10\n",
            "less than pivot =  [7, 9, 8]\n",
            "greater than pivot =  [] \n",
            "\n",
            "array =  [7, 9, 8]\n",
            "pivot =  7\n",
            "less than pivot =  []\n",
            "greater than pivot =  [9, 8] \n",
            "\n",
            "array =  [9, 8]\n",
            "pivot =  9\n",
            "less than pivot =  [8]\n",
            "greater than pivot =  [] \n",
            "\n",
            "[1, 2, 3, 4, 5, 6, 7, 8, 9, 10]\n"
          ]
        }
      ]
    }
  ]
}