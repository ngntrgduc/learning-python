{
  "nbformat": 4,
  "nbformat_minor": 0,
  "metadata": {
    "colab": {
      "name": "RegEx",
      "provenance": [],
      "authorship_tag": "ABX9TyMd41MV6p5seFsVTaWVDq72",
      "include_colab_link": true
    },
    "kernelspec": {
      "name": "python3",
      "display_name": "Python 3"
    },
    "language_info": {
      "name": "python"
    }
  },
  "cells": [
    {
      "cell_type": "markdown",
      "metadata": {
        "id": "view-in-github",
        "colab_type": "text"
      },
      "source": [
        "<a href=\"https://colab.research.google.com/github/sanshironagato/learning-python/blob/master/RegEx.ipynb\" target=\"_parent\"><img src=\"https://colab.research.google.com/assets/colab-badge.svg\" alt=\"Open In Colab\"/></a>"
      ]
    },
    {
      "cell_type": "markdown",
      "source": [
        "### RegEx in Python"
      ],
      "metadata": {
        "id": "7ItL48beT1r7"
      }
    },
    {
      "cell_type": "code",
      "execution_count": null,
      "metadata": {
        "id": "w0hIgs9GJTXn"
      },
      "outputs": [],
      "source": [
        "import re"
      ]
    },
    {
      "cell_type": "markdown",
      "source": [
        "|Function|Description|\n",
        "|:----:|----|\n",
        "|`findall`|Returns a list containing all matches|\n",
        "|`search`|Returns a Match object if there is a match anywhere in the string|\n",
        "|`split`|Returns a list where the string has been split at each match|\n",
        "|`sub`|Replaces one or many matches with a string|"
      ],
      "metadata": {
        "id": "9FP5bRJAJ_pV"
      }
    },
    {
      "cell_type": "code",
      "source": [
        "text = \"the cat The cat ghe\"\n",
        "print(re.findall(\"[Tt]he\", text))"
      ],
      "metadata": {
        "colab": {
          "base_uri": "https://localhost:8080/"
        },
        "id": "QrQ-cO2oJeeb",
        "outputId": "007f869f-d4ee-41a7-ab6c-b78771b9668f"
      },
      "execution_count": null,
      "outputs": [
        {
          "output_type": "stream",
          "name": "stdout",
          "text": [
            "['the', 'The']\n"
          ]
        }
      ]
    },
    {
      "cell_type": "code",
      "source": [
        "text = \"the cat The cat ghe\"\n",
        "print(re.search(\"[Tt]he\", text))"
      ],
      "metadata": {
        "colab": {
          "base_uri": "https://localhost:8080/"
        },
        "id": "Jk5_vI_GLeKD",
        "outputId": "8140ac3e-1d59-4446-9d52-1ea592eb7ddf"
      },
      "execution_count": null,
      "outputs": [
        {
          "output_type": "stream",
          "name": "stdout",
          "text": [
            "<re.Match object; span=(0, 3), match='the'>\n"
          ]
        }
      ]
    },
    {
      "cell_type": "code",
      "source": [
        "text = \"the cat The cat ghe\"\n",
        "print(re.split(\"[Tt]he\", text))"
      ],
      "metadata": {
        "colab": {
          "base_uri": "https://localhost:8080/"
        },
        "id": "WGLDm23WM5Se",
        "outputId": "d2b8871b-5a4d-4863-c80e-eec47505df67"
      },
      "execution_count": null,
      "outputs": [
        {
          "output_type": "stream",
          "name": "stdout",
          "text": [
            "['', ' cat ', ' cat ghe']\n"
          ]
        }
      ]
    },
    {
      "cell_type": "code",
      "source": [
        "text = \"the cat The cat ghe\"\n",
        "print(re.sub(\"[Tt]he\", \"Replaced\", text))"
      ],
      "metadata": {
        "colab": {
          "base_uri": "https://localhost:8080/"
        },
        "id": "7hp9yQS5M_QV",
        "outputId": "1ed7678b-40ed-49bb-c3a1-dd41dae37c30"
      },
      "execution_count": null,
      "outputs": [
        {
          "output_type": "stream",
          "name": "stdout",
          "text": [
            "Replaced cat Replaced cat ghe\n"
          ]
        }
      ]
    },
    {
      "cell_type": "markdown",
      "source": [
        "The Match object has properties and methods used to retrieve information about the search, and the result:\n",
        "\n",
        "|Function|Description|\n",
        "|:----:|----|\n",
        "|`.span()`| returns a tuple containing the start and end positions of the match.\\|\n",
        "|`.string`| returns the string passed into the function|\n",
        "|`.group()`| returns the part of the string where there was a match|"
      ],
      "metadata": {
        "id": "b8uD3mIqPpMK"
      }
    },
    {
      "cell_type": "code",
      "source": [
        "text = \"the cat The cat ghe\"\n",
        "x = re.search(\"[Tt]he\", text)\n",
        "print(x.span())"
      ],
      "metadata": {
        "colab": {
          "base_uri": "https://localhost:8080/"
        },
        "id": "XZ06mggOP-ZK",
        "outputId": "0e521dc1-b57b-4eff-8e97-32542669f230"
      },
      "execution_count": null,
      "outputs": [
        {
          "output_type": "stream",
          "name": "stdout",
          "text": [
            "(0, 3)\n"
          ]
        }
      ]
    },
    {
      "cell_type": "code",
      "source": [
        "text = \"the cat The cat ghe\"\n",
        "x = re.search(\"[Tt]he\", text)\n",
        "print(x.string)"
      ],
      "metadata": {
        "colab": {
          "base_uri": "https://localhost:8080/"
        },
        "id": "aRQZbrzES8S4",
        "outputId": "c96843e9-241a-4460-cc41-1a3efb69d3fc"
      },
      "execution_count": null,
      "outputs": [
        {
          "output_type": "stream",
          "name": "stdout",
          "text": [
            "the cat The cat ghe\n"
          ]
        }
      ]
    },
    {
      "cell_type": "code",
      "source": [
        "text = \"the cat The cat ghe\"\n",
        "x = re.search(\"[Tt]he\", text)\n",
        "print(x.group())"
      ],
      "metadata": {
        "colab": {
          "base_uri": "https://localhost:8080/"
        },
        "id": "EQwSbue4TcNc",
        "outputId": "7e82519a-df3a-48ba-bada-f6d5b92c38ad"
      },
      "execution_count": null,
      "outputs": [
        {
          "output_type": "stream",
          "name": "stdout",
          "text": [
            "the\n"
          ]
        }
      ]
    },
    {
      "cell_type": "markdown",
      "source": [
        "### Playground"
      ],
      "metadata": {
        "id": "mXpx6iG8UCab"
      }
    },
    {
      "cell_type": "code",
      "source": [
        "txt = \"The car is parked in the garage\"\n",
        "print(re.findall(\"(?:c|g|p)ar\", txt)) #Non-Capturing Groups"
      ],
      "metadata": {
        "colab": {
          "base_uri": "https://localhost:8080/"
        },
        "id": "CMB3_z3yUEcC",
        "outputId": "30c7a4e6-07e0-47de-8eb8-ab6658a57d2b"
      },
      "execution_count": null,
      "outputs": [
        {
          "output_type": "stream",
          "name": "stdout",
          "text": [
            "['car', 'par', 'gar']\n"
          ]
        }
      ]
    },
    {
      "cell_type": "code",
      "source": [
        "txt = \"The car is parked in the garage\"\n",
        "print(re.findall(\"(?:T|t)he|car\", txt)) #Alternation"
      ],
      "metadata": {
        "colab": {
          "base_uri": "https://localhost:8080/"
        },
        "id": "4IUxc_xoVHMD",
        "outputId": "db8cc5fc-6dd2-4017-bb9d-31647c7ab518"
      },
      "execution_count": null,
      "outputs": [
        {
          "output_type": "stream",
          "name": "stdout",
          "text": [
            "['The', 'car', 'the']\n"
          ]
        }
      ]
    },
    {
      "cell_type": "code",
      "source": [
        "txt = \"{ } [ ] / \\ + * . $ ^ | ?\"\n",
        "print(re.findall(\"\\{ \\} .\", txt))"
      ],
      "metadata": {
        "colab": {
          "base_uri": "https://localhost:8080/"
        },
        "id": "nEhmd0-MeXDq",
        "outputId": "04947622-a76d-42d7-976a-469d3c924acf"
      },
      "execution_count": null,
      "outputs": [
        {
          "output_type": "stream",
          "name": "stdout",
          "text": [
            "['{ } [']\n"
          ]
        }
      ]
    },
    {
      "cell_type": "code",
      "source": [
        "txt = \"The car is parked in the garage.\"\n",
        "print(re.findall(\"(?:T|t)he\", txt))\n",
        "print(re.findall(\"^(?:T|t)he\", txt)) #Match the first character of the input string"
      ],
      "metadata": {
        "colab": {
          "base_uri": "https://localhost:8080/"
        },
        "id": "PuA8lD4VgYDF",
        "outputId": "b5abad43-1ad9-494d-943f-ff7a61c44772"
      },
      "execution_count": null,
      "outputs": [
        {
          "output_type": "stream",
          "name": "stdout",
          "text": [
            "['The', 'the']\n",
            "['The']\n"
          ]
        }
      ]
    },
    {
      "cell_type": "code",
      "source": [
        "text = \"    catcat cat carg\"\n",
        "print(re.sub(r'\\bcat\\b', '', text, flags=re.IGNORECASE)) #word boundaries\n",
        "\n",
        "print('x\\by') #\\b will be interpreted as a backspace character\n",
        "print(r'x\\by')"
      ],
      "metadata": {
        "colab": {
          "base_uri": "https://localhost:8080/"
        },
        "id": "7bzGZNT7TDLX",
        "outputId": "017fa4f0-afa5-4adf-f1bc-c26592c73f59"
      },
      "execution_count": null,
      "outputs": [
        {
          "output_type": "stream",
          "name": "stdout",
          "text": [
            "    catcat  carg\n",
            "x\by\n",
            "x\\by\n"
          ]
        }
      ]
    }
  ]
}