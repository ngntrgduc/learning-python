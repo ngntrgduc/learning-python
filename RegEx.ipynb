{
  "nbformat": 4,
  "nbformat_minor": 0,
  "metadata": {
    "colab": {
      "name": "RegEx",
      "provenance": [],
      "authorship_tag": "ABX9TyPSYeg60eEo58dRGBJWprvY",
      "include_colab_link": true
    },
    "kernelspec": {
      "name": "python3",
      "display_name": "Python 3"
    },
    "language_info": {
      "name": "python"
    }
  },
  "cells": [
    {
      "cell_type": "markdown",
      "metadata": {
        "id": "view-in-github",
        "colab_type": "text"
      },
      "source": [
        "<a href=\"https://colab.research.google.com/github/sanshironagato/learning-python/blob/master/RegEx.ipynb\" target=\"_parent\"><img src=\"https://colab.research.google.com/assets/colab-badge.svg\" alt=\"Open In Colab\"/></a>"
      ]
    },
    {
      "cell_type": "markdown",
      "source": [
        "### RegEx in Python"
      ],
      "metadata": {
        "id": "7ItL48beT1r7"
      }
    },
    {
      "cell_type": "code",
      "execution_count": 22,
      "metadata": {
        "id": "w0hIgs9GJTXn"
      },
      "outputs": [],
      "source": [
        "import re"
      ]
    },
    {
      "cell_type": "markdown",
      "source": [
        "|Function|Description|\n",
        "|:----:|----|\n",
        "|`findall`|Returns a list containing all matches|\n",
        "|`search`|Returns a Match object if there is a match anywhere in the string|\n",
        "|`split`|Returns a list where the string has been split at each match|\n",
        "|`sub`|Replaces one or many matches with a string|"
      ],
      "metadata": {
        "id": "9FP5bRJAJ_pV"
      }
    },
    {
      "cell_type": "code",
      "source": [
        "text = \"the cat The cat ghe\"\n",
        "print(re.findall(\"[Tt]he\", text))"
      ],
      "metadata": {
        "colab": {
          "base_uri": "https://localhost:8080/"
        },
        "id": "QrQ-cO2oJeeb",
        "outputId": "80429e5f-879d-405a-f6ed-6b28582aab2a"
      },
      "execution_count": 23,
      "outputs": [
        {
          "output_type": "stream",
          "name": "stdout",
          "text": [
            "['the', 'The']\n"
          ]
        }
      ]
    },
    {
      "cell_type": "code",
      "source": [
        "text = \"the cat The cat ghe\"\n",
        "print(re.search(\"[Tt]he\", text))"
      ],
      "metadata": {
        "colab": {
          "base_uri": "https://localhost:8080/"
        },
        "id": "Jk5_vI_GLeKD",
        "outputId": "0bd3d775-b164-4754-95b4-d6de73da6878"
      },
      "execution_count": 24,
      "outputs": [
        {
          "output_type": "stream",
          "name": "stdout",
          "text": [
            "<re.Match object; span=(0, 3), match='the'>\n"
          ]
        }
      ]
    },
    {
      "cell_type": "code",
      "source": [
        "text = \"the cat The cat ghe\"\n",
        "print(re.split(\"[Tt]he\", text))"
      ],
      "metadata": {
        "colab": {
          "base_uri": "https://localhost:8080/"
        },
        "id": "WGLDm23WM5Se",
        "outputId": "8cfef721-d5d1-4b4b-ae03-208ac6115055"
      },
      "execution_count": 25,
      "outputs": [
        {
          "output_type": "stream",
          "name": "stdout",
          "text": [
            "['', ' cat ', ' cat ghe']\n"
          ]
        }
      ]
    },
    {
      "cell_type": "code",
      "source": [
        "text = \"the cat The cat ghe\"\n",
        "print(re.sub(\"[Tt]he\", \"Replaced\", text))"
      ],
      "metadata": {
        "colab": {
          "base_uri": "https://localhost:8080/"
        },
        "id": "7hp9yQS5M_QV",
        "outputId": "801c99f7-1b10-438c-b6b5-e76b809b6c91"
      },
      "execution_count": 26,
      "outputs": [
        {
          "output_type": "stream",
          "name": "stdout",
          "text": [
            "Replaced cat Replaced cat ghe\n"
          ]
        }
      ]
    },
    {
      "cell_type": "markdown",
      "source": [
        "The Match object has properties and methods used to retrieve information about the search, and the result:\n",
        "\n",
        "|Function|Description|\n",
        "|:----:|----|\n",
        "|`.span()`| returns a tuple containing the start and end positions of the match.\\|\n",
        "|`.string`| returns the string passed into the function|\n",
        "|`.group()`| returns the part of the string where there was a match|"
      ],
      "metadata": {
        "id": "b8uD3mIqPpMK"
      }
    },
    {
      "cell_type": "code",
      "source": [
        "text = \"the cat The cat ghe\"\n",
        "x = re.search(\"[Tt]he\", text)\n",
        "print(x.span())"
      ],
      "metadata": {
        "colab": {
          "base_uri": "https://localhost:8080/"
        },
        "id": "XZ06mggOP-ZK",
        "outputId": "3e07ae70-ea77-4734-de66-feaa13e5b5de"
      },
      "execution_count": 27,
      "outputs": [
        {
          "output_type": "stream",
          "name": "stdout",
          "text": [
            "(0, 3)\n"
          ]
        }
      ]
    },
    {
      "cell_type": "code",
      "source": [
        "text = \"the cat The cat ghe\"\n",
        "x = re.search(\"[Tt]he\", text)\n",
        "print(x.string)"
      ],
      "metadata": {
        "colab": {
          "base_uri": "https://localhost:8080/"
        },
        "id": "aRQZbrzES8S4",
        "outputId": "24fd5b3e-826e-4512-bc2f-080f280ad7c7"
      },
      "execution_count": 28,
      "outputs": [
        {
          "output_type": "stream",
          "name": "stdout",
          "text": [
            "the cat The cat ghe\n"
          ]
        }
      ]
    },
    {
      "cell_type": "code",
      "source": [
        "text = \"the cat The cat ghe\"\n",
        "x = re.search(\"[Tt]he\", text)\n",
        "print(x.group())"
      ],
      "metadata": {
        "colab": {
          "base_uri": "https://localhost:8080/"
        },
        "id": "EQwSbue4TcNc",
        "outputId": "98c01deb-6e56-47f3-e461-bff451653014"
      },
      "execution_count": 29,
      "outputs": [
        {
          "output_type": "stream",
          "name": "stdout",
          "text": [
            "the\n"
          ]
        }
      ]
    },
    {
      "cell_type": "markdown",
      "source": [
        "### Playground"
      ],
      "metadata": {
        "id": "mXpx6iG8UCab"
      }
    },
    {
      "cell_type": "code",
      "source": [
        "txt = \"The car is parked in the garage\"\n",
        "print(re.findall(\"(?:c|g|p)ar\", txt)) #Non-Capturing Groups"
      ],
      "metadata": {
        "colab": {
          "base_uri": "https://localhost:8080/"
        },
        "id": "CMB3_z3yUEcC",
        "outputId": "0469bd74-815e-4524-9642-9143939213ba"
      },
      "execution_count": 30,
      "outputs": [
        {
          "output_type": "stream",
          "name": "stdout",
          "text": [
            "['car', 'par', 'gar']\n"
          ]
        }
      ]
    },
    {
      "cell_type": "code",
      "source": [
        "txt = \"The car is parked in the garage\"\n",
        "print(re.findall(\"(?:T|t)he|car\", txt)) #Alternation"
      ],
      "metadata": {
        "colab": {
          "base_uri": "https://localhost:8080/"
        },
        "id": "4IUxc_xoVHMD",
        "outputId": "f6dd0921-ffcf-4ec2-f0d2-5e0cf44963de"
      },
      "execution_count": 31,
      "outputs": [
        {
          "output_type": "stream",
          "name": "stdout",
          "text": [
            "['The', 'car', 'the']\n"
          ]
        }
      ]
    },
    {
      "cell_type": "code",
      "source": [
        "txt = \"{ } [ ] / \\ + * . $ ^ | ?\"\n",
        "print(re.findall(\"\\{ \\} .\", txt))"
      ],
      "metadata": {
        "colab": {
          "base_uri": "https://localhost:8080/"
        },
        "id": "nEhmd0-MeXDq",
        "outputId": "56b8674d-93c0-4d4b-daa5-8cf945c0c2d8"
      },
      "execution_count": 32,
      "outputs": [
        {
          "output_type": "stream",
          "name": "stdout",
          "text": [
            "['{ } [']\n"
          ]
        }
      ]
    },
    {
      "cell_type": "code",
      "source": [
        "txt = \"The car is parked in the garage.\"\n",
        "print(re.findall(\"(?:T|t)he\", txt))\n",
        "print(re.findall(\"^(?:T|t)he\", txt)) #Match the first character of the input string"
      ],
      "metadata": {
        "colab": {
          "base_uri": "https://localhost:8080/"
        },
        "id": "PuA8lD4VgYDF",
        "outputId": "a7eb338f-b984-41e5-896e-c583614513ff"
      },
      "execution_count": 33,
      "outputs": [
        {
          "output_type": "stream",
          "name": "stdout",
          "text": [
            "['The', 'the']\n",
            "['The']\n"
          ]
        }
      ]
    },
    {
      "cell_type": "code",
      "source": [
        "text = \" catcat cat carg\"\n",
        "print(re.sub(r'\\bcat\\b', '', text, flags=re.IGNORECASE)) #word boundaries\n",
        "\n",
        "print('x\\by') #\\b will be interpreted as a backspace character\n",
        "print(r'x\\by')"
      ],
      "metadata": {
        "colab": {
          "base_uri": "https://localhost:8080/"
        },
        "id": "7bzGZNT7TDLX",
        "outputId": "88c8afeb-07f1-4ca0-b0e2-4904b252bdfa"
      },
      "execution_count": 34,
      "outputs": [
        {
          "output_type": "stream",
          "name": "stdout",
          "text": [
            " catcat  carg\n",
            "x\by\n",
            "x\\by\n"
          ]
        }
      ]
    },
    {
      "cell_type": "code",
      "source": [
        "text = \"catcat cat car t\"\n",
        "print(re.findall('[^cat]', text))\n",
        "\n",
        "print(re.findall('[?!cat]', text))"
      ],
      "metadata": {
        "colab": {
          "base_uri": "https://localhost:8080/"
        },
        "id": "XlB2646iQ422",
        "outputId": "3163d3f9-3351-4789-8425-15364f770574"
      },
      "execution_count": 37,
      "outputs": [
        {
          "output_type": "stream",
          "name": "stdout",
          "text": [
            "[' ', ' ', 'r', ' ']\n",
            "['c', 'a', 't', 'c', 'a', 't', 'c', 'a', 't', 'c', 'a', 't']\n"
          ]
        }
      ]
    },
    {
      "cell_type": "code",
      "source": [
        "text = 'hello 123 23432 h2h1'\n",
        "print(re.findall('[0-9]+', text)) #Find any positive integer decimal number in a larger body of text"
      ],
      "metadata": {
        "colab": {
          "base_uri": "https://localhost:8080/"
        },
        "id": "irzo4IJ1ULpc",
        "outputId": "b83159bc-7cd3-41f7-83c6-34fb57ccc3cb"
      },
      "execution_count": 36,
      "outputs": [
        {
          "output_type": "stream",
          "name": "stdout",
          "text": [
            "['123', '23432', '2', '1']\n"
          ]
        }
      ]
    }
  ]
}