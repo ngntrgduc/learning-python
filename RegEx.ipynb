{
  "nbformat": 4,
  "nbformat_minor": 0,
  "metadata": {
    "colab": {
      "name": "RegEx",
      "provenance": [],
      "authorship_tag": "ABX9TyMe/QUCqZWZBpwHFFiusXKu",
      "include_colab_link": true
    },
    "kernelspec": {
      "name": "python3",
      "display_name": "Python 3"
    },
    "language_info": {
      "name": "python"
    }
  },
  "cells": [
    {
      "cell_type": "markdown",
      "metadata": {
        "id": "view-in-github",
        "colab_type": "text"
      },
      "source": [
        "<a href=\"https://colab.research.google.com/github/sanshironagato/learning-python/blob/master/RegEx.ipynb\" target=\"_parent\"><img src=\"https://colab.research.google.com/assets/colab-badge.svg\" alt=\"Open In Colab\"/></a>"
      ]
    },
    {
      "cell_type": "markdown",
      "source": [
        "### RegEx in Python"
      ],
      "metadata": {
        "id": "7ItL48beT1r7"
      }
    },
    {
      "cell_type": "code",
      "execution_count": null,
      "metadata": {
        "id": "w0hIgs9GJTXn"
      },
      "outputs": [],
      "source": [
        "import re"
      ]
    },
    {
      "cell_type": "markdown",
      "source": [
        "|Function|Description|\n",
        "|:----:|----|\n",
        "|`findall`|Returns a list containing all matches|\n",
        "|`search`|Returns a Match object if there is a match anywhere in the string|\n",
        "|`split`|Returns a list where the string has been split at each match|\n",
        "|`sub`|Replaces one or many matches with a string|"
      ],
      "metadata": {
        "id": "9FP5bRJAJ_pV"
      }
    },
    {
      "cell_type": "code",
      "source": [
        "text = \"the cat The cat ghe\"\n",
        "print(re.findall(\"[Tt]he\", text))"
      ],
      "metadata": {
        "colab": {
          "base_uri": "https://localhost:8080/"
        },
        "id": "QrQ-cO2oJeeb",
        "outputId": "e7e3e1c5-00f3-4af8-c5ec-eb66bcaca63c"
      },
      "execution_count": null,
      "outputs": [
        {
          "output_type": "stream",
          "name": "stdout",
          "text": [
            "['the', 'The']\n"
          ]
        }
      ]
    },
    {
      "cell_type": "code",
      "source": [
        "text = \"the cat The cat ghe\"\n",
        "print(re.search(\"[Tt]he\", text))"
      ],
      "metadata": {
        "colab": {
          "base_uri": "https://localhost:8080/"
        },
        "id": "Jk5_vI_GLeKD",
        "outputId": "f278c640-cfca-49d3-f37b-e4b3e6337f81"
      },
      "execution_count": null,
      "outputs": [
        {
          "output_type": "stream",
          "name": "stdout",
          "text": [
            "<re.Match object; span=(0, 3), match='the'>\n"
          ]
        }
      ]
    },
    {
      "cell_type": "code",
      "source": [
        "text = \"the cat The cat ghe\"\n",
        "print(re.split(\"[Tt]he\", text))"
      ],
      "metadata": {
        "colab": {
          "base_uri": "https://localhost:8080/"
        },
        "id": "WGLDm23WM5Se",
        "outputId": "e9b3c4ec-ba37-4f3c-f3e6-79b02936f27c"
      },
      "execution_count": null,
      "outputs": [
        {
          "output_type": "stream",
          "name": "stdout",
          "text": [
            "['', ' cat ', ' cat ghe']\n"
          ]
        }
      ]
    },
    {
      "cell_type": "code",
      "source": [
        "text = \"the cat The cat ghe\"\n",
        "print(re.sub(\"[Tt]he\", \"Replaced\", text))"
      ],
      "metadata": {
        "colab": {
          "base_uri": "https://localhost:8080/"
        },
        "id": "7hp9yQS5M_QV",
        "outputId": "eac90f59-426c-4260-dce3-1e67eb2a81c2"
      },
      "execution_count": null,
      "outputs": [
        {
          "output_type": "stream",
          "name": "stdout",
          "text": [
            "Replaced cat Replaced cat ghe\n"
          ]
        }
      ]
    },
    {
      "cell_type": "markdown",
      "source": [
        "The Match object has properties and methods used to retrieve information about the search, and the result:\n",
        "\n",
        "|Function|Description|\n",
        "|:----:|----|\n",
        "|`.span()`| returns a tuple containing the start and end positions of the match.\\|\n",
        "|`.string`| returns the string passed into the function|\n",
        "|`.group()`| returns the part of the string where there was a match|"
      ],
      "metadata": {
        "id": "b8uD3mIqPpMK"
      }
    },
    {
      "cell_type": "code",
      "source": [
        "text = \"the cat The cat ghe\"\n",
        "x = re.search(\"[Tt]he\", text)\n",
        "print(x.span())"
      ],
      "metadata": {
        "colab": {
          "base_uri": "https://localhost:8080/"
        },
        "id": "XZ06mggOP-ZK",
        "outputId": "2d5a8a28-7e9d-471d-9d71-5ab25a0bbf0d"
      },
      "execution_count": null,
      "outputs": [
        {
          "output_type": "stream",
          "name": "stdout",
          "text": [
            "(0, 3)\n"
          ]
        }
      ]
    },
    {
      "cell_type": "code",
      "source": [
        "text = \"the cat The cat ghe\"\n",
        "x = re.search(\"[Tt]he\", text)\n",
        "print(x.string)"
      ],
      "metadata": {
        "colab": {
          "base_uri": "https://localhost:8080/"
        },
        "id": "aRQZbrzES8S4",
        "outputId": "16f07e42-4f98-4a84-f9e9-3760d0f6e48a"
      },
      "execution_count": null,
      "outputs": [
        {
          "output_type": "stream",
          "name": "stdout",
          "text": [
            "the cat The cat ghe\n"
          ]
        }
      ]
    },
    {
      "cell_type": "code",
      "source": [
        "text = \"the cat The cat ghe\"\n",
        "x = re.search(\"[Tt]he\", text)\n",
        "print(x.group())"
      ],
      "metadata": {
        "colab": {
          "base_uri": "https://localhost:8080/"
        },
        "id": "EQwSbue4TcNc",
        "outputId": "74cf60f7-38e7-44e7-d125-e4949624d9bb"
      },
      "execution_count": null,
      "outputs": [
        {
          "output_type": "stream",
          "name": "stdout",
          "text": [
            "the\n"
          ]
        }
      ]
    },
    {
      "cell_type": "markdown",
      "source": [
        "### Playground"
      ],
      "metadata": {
        "id": "mXpx6iG8UCab"
      }
    },
    {
      "cell_type": "code",
      "source": [
        "txt = \"The car is parked in the garage\"\n",
        "print(re.findall(\"(?:c|g|p)ar\", txt)) #Non-Capturing Groups"
      ],
      "metadata": {
        "colab": {
          "base_uri": "https://localhost:8080/"
        },
        "id": "CMB3_z3yUEcC",
        "outputId": "6d477b0c-1767-4264-a197-3268a399978e"
      },
      "execution_count": null,
      "outputs": [
        {
          "output_type": "stream",
          "name": "stdout",
          "text": [
            "['car', 'par', 'gar']\n"
          ]
        }
      ]
    },
    {
      "cell_type": "code",
      "source": [
        "txt = \"The car is parked in the garage\"\n",
        "print(re.findall(\"(?:T|t)he|car\", txt)) #Alternation"
      ],
      "metadata": {
        "colab": {
          "base_uri": "https://localhost:8080/"
        },
        "id": "4IUxc_xoVHMD",
        "outputId": "d389a1c4-3f31-470b-d113-c4080243584e"
      },
      "execution_count": null,
      "outputs": [
        {
          "output_type": "stream",
          "name": "stdout",
          "text": [
            "['The', 'car', 'the']\n"
          ]
        }
      ]
    },
    {
      "cell_type": "code",
      "source": [
        "txt = \"{ } [ ] / \\ + * . $ ^ | ?\"\n",
        "print(re.findall(\"\\{ \\} .\", txt))"
      ],
      "metadata": {
        "colab": {
          "base_uri": "https://localhost:8080/"
        },
        "id": "nEhmd0-MeXDq",
        "outputId": "b6333300-a8ed-47d0-bb53-be0da1e6c66f"
      },
      "execution_count": null,
      "outputs": [
        {
          "output_type": "stream",
          "name": "stdout",
          "text": [
            "['{ } [']\n"
          ]
        }
      ]
    },
    {
      "cell_type": "code",
      "source": [
        "txt = \"The car is parked in the garage.\"\n",
        "print(re.findall(\"(?:T|t)he\", txt))\n",
        "print(re.findall(\"^(?:T|t)he\", txt)) #Match the first character of the input string"
      ],
      "metadata": {
        "colab": {
          "base_uri": "https://localhost:8080/"
        },
        "id": "PuA8lD4VgYDF",
        "outputId": "b0c05cca-dd50-4f6f-bba3-a881a1f92ccf"
      },
      "execution_count": null,
      "outputs": [
        {
          "output_type": "stream",
          "name": "stdout",
          "text": [
            "['The', 'the']\n",
            "['The']\n"
          ]
        }
      ]
    }
  ]
}