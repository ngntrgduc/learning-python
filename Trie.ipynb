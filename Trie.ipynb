{
  "cells": [
    {
      "cell_type": "markdown",
      "metadata": {
        "colab_type": "text",
        "id": "view-in-github"
      },
      "source": [
        "<a href=\"https://colab.research.google.com/github/ngntrgduc/learning-python/blob/master/Trie.ipynb\" target=\"_parent\"><img src=\"https://colab.research.google.com/assets/colab-badge.svg\" alt=\"Open In Colab\"/></a>"
      ]
    },
    {
      "cell_type": "code",
      "execution_count": 7,
      "metadata": {
        "id": "lIYdn1woOS1n"
      },
      "outputs": [],
      "source": [
        "from __future__ import annotations \n",
        "\n",
        "class Trie:\n",
        "    def __init__(self) -> None:\n",
        "        self.children: dict[str, Trie] = {}\n",
        "        self.is_end: bool = False\n",
        "\n",
        "    def insert(self, word: str) -> None:\n",
        "        \"\"\"Inserts a word into the Trie\"\"\"\n",
        "        current = self\n",
        "        for char in word:\n",
        "            if char not in current.children:\n",
        "                current.children[char] = Trie()\n",
        "            current = current.children[char]\n",
        "        current.is_end = True\n",
        "\n",
        "    def insert_string(self, string: str, separator: str = ' ') -> None:\n",
        "        \"\"\"Insert words in a string into the Trie\"\"\"\n",
        "        for word in string.split(separator):\n",
        "            self.insert(word)\n",
        "\n",
        "    def insert_list_of_words(self, list_of_words: list[str]) -> None:\n",
        "        \"\"\"Insert list of words into the Trie\"\"\"\n",
        "        for word in list_of_words:\n",
        "            self.insert(word)\n",
        "\n",
        "    def delete(self, word: str) -> None:\n",
        "        \"\"\"Delete a word from the Trie\"\"\"\n",
        "\n",
        "        def _delete(current: Trie, word: str, index: int) -> bool:\n",
        "            if index == len(word):\n",
        "                # If word does not exist\n",
        "                if not current.is_end:\n",
        "                    return False\n",
        "                current.is_end = False\n",
        "                return len(current.children) == 0\n",
        "\n",
        "            char = word[index]\n",
        "            char_node = current.children.get(char)\n",
        "\n",
        "            # If char not in current trie node\n",
        "            if not char_node:\n",
        "                return False\n",
        "\n",
        "            # Flag to check if node can be deleted\n",
        "            delete_current = _delete(char_node, word, index + 1)\n",
        "            if delete_current:\n",
        "                del current.children[char]\n",
        "                return len(current.children) == 0\n",
        "\n",
        "            return delete_current\n",
        "\n",
        "        _delete(self, word, 0)\n",
        "\n",
        "    def find(self, word: str) -> bool:\n",
        "        \"\"\"Check if a word exists in the Trie\"\"\"\n",
        "        current = self\n",
        "        for char in word:\n",
        "            if char not in current.children:\n",
        "                return False\n",
        "            current = current.children[char]\n",
        "        return current.is_end\n",
        "\n",
        "    def _print_words(self, current: Trie, word: str = '') -> None:\n",
        "        \"\"\"Helper method to print words recursively\"\"\"\n",
        "        if current.is_end:\n",
        "            print(word)\n",
        "\n",
        "        for char, child_node in current.children.items():\n",
        "            self._print_words(child_node, word + char)\n",
        "\n",
        "    def print(self) -> None:\n",
        "        \"\"\"Print all the words in the current Trie\"\"\"\n",
        "        self._print_words(self)\n",
        "\n",
        "    def search(self, prefix: str) -> None:\n",
        "        \"\"\"Print all words that start with the given prefix\"\"\"\n",
        "        current = self\n",
        "        for char in prefix:\n",
        "            if char not in current.children:\n",
        "                return\n",
        "            current = current.children[char]\n",
        "\n",
        "        self._print_words(current, prefix)"
      ]
    },
    {
      "cell_type": "code",
      "execution_count": 8,
      "metadata": {
        "colab": {
          "base_uri": "https://localhost:8080/"
        },
        "id": "aI5hpnSxGYZz",
        "outputId": "ef3f5610-6f6c-4a88-f5c9-b396a6cd6533"
      },
      "outputs": [
        {
          "name": "stdout",
          "output_type": "stream",
          "text": [
            "trie.find('hello') = True\n",
            "trie.find('worl') = False\n",
            "trie.find('world') = True\n",
            "trie.find('worlde') = False\n",
            "Trie represent:\n",
            "hel\n",
            "hell\n",
            "hello\n",
            "hellium\n",
            "help\n",
            "helicopter\n",
            "world\n",
            "After delete:\n",
            "hel\n",
            "hell\n",
            "hello\n",
            "hellium\n",
            "help\n",
            "helicopter\n"
          ]
        }
      ],
      "source": [
        "trie = Trie()\n",
        "trie.insert_string('hello world hellium hell hel help helicopter')\n",
        "print(f\"{trie.find('hello') = }\")\n",
        "print(f\"{trie.find('worl') = }\")\n",
        "print(f\"{trie.find('world') = }\")\n",
        "print(f\"{trie.find('worlde') = }\")\n",
        "\n",
        "print('Trie represent:')\n",
        "trie.print()\n",
        "trie.delete('worl')\n",
        "trie.delete('world')\n",
        "print('After delete:')\n",
        "trie.print()"
      ]
    },
    {
      "cell_type": "code",
      "execution_count": 9,
      "metadata": {
        "id": "yMwm_63C3VXu"
      },
      "outputs": [],
      "source": [
        "trie.delete('hel')"
      ]
    },
    {
      "cell_type": "code",
      "execution_count": 10,
      "metadata": {
        "colab": {
          "base_uri": "https://localhost:8080/"
        },
        "id": "t5Dynxx-3XC0",
        "outputId": "11f22479-1d7b-4b5c-a286-9469a8e08eb0"
      },
      "outputs": [
        {
          "name": "stdout",
          "output_type": "stream",
          "text": [
            "hell\n",
            "hello\n",
            "hellium\n",
            "help\n",
            "helicopter\n"
          ]
        }
      ],
      "source": [
        "trie.print()"
      ]
    },
    {
      "cell_type": "code",
      "execution_count": 11,
      "metadata": {
        "colab": {
          "base_uri": "https://localhost:8080/"
        },
        "id": "e2QEd_hXYNYa",
        "outputId": "2771563a-5579-4396-deb9-3799acebebcf"
      },
      "outputs": [
        {
          "name": "stdout",
          "output_type": "stream",
          "text": [
            "hell\n",
            "hello\n",
            "hellium\n"
          ]
        }
      ],
      "source": [
        "trie.search('hell')"
      ]
    },
    {
      "cell_type": "code",
      "execution_count": 12,
      "metadata": {
        "colab": {
          "base_uri": "https://localhost:8080/"
        },
        "id": "C71ew4-zZZgv",
        "outputId": "de42292b-6b2c-4795-c592-f19b43d1b2db"
      },
      "outputs": [
        {
          "name": "stdout",
          "output_type": "stream",
          "text": [
            "hell\n",
            "hello\n",
            "hellium\n",
            "help\n",
            "helicopter\n"
          ]
        }
      ],
      "source": [
        "trie.print()"
      ]
    }
  ],
  "metadata": {
    "colab": {
      "include_colab_link": true,
      "provenance": []
    },
    "kernelspec": {
      "display_name": "Python 3",
      "name": "python3"
    },
    "language_info": {
      "codemirror_mode": {
        "name": "ipython",
        "version": 3
      },
      "file_extension": ".py",
      "mimetype": "text/x-python",
      "name": "python",
      "nbconvert_exporter": "python",
      "pygments_lexer": "ipython3",
      "version": "3.10.6"
    }
  },
  "nbformat": 4,
  "nbformat_minor": 0
}
