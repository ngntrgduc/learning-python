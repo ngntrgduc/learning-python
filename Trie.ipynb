{
  "cells": [
    {
      "cell_type": "markdown",
      "metadata": {
        "id": "view-in-github",
        "colab_type": "text"
      },
      "source": [
        "<a href=\"https://colab.research.google.com/github/ngntrgduc/learning-python/blob/master/Trie.ipynb\" target=\"_parent\"><img src=\"https://colab.research.google.com/assets/colab-badge.svg\" alt=\"Open In Colab\"/></a>"
      ]
    },
    {
      "cell_type": "code",
      "execution_count": 1,
      "metadata": {
        "id": "lIYdn1woOS1n"
      },
      "outputs": [],
      "source": [
        "class Trie:\n",
        "    def __init__(self) -> None:\n",
        "        self.childs: dict[str, Trie] = {}\n",
        "        self.end: bool = False\n",
        "\n",
        "    def insert(self, word: str) -> None:\n",
        "        \"\"\"Inserts a word into the Trie\"\"\"\n",
        "        current = self\n",
        "        for char in word:\n",
        "            if char not in current.childs:\n",
        "                current.childs[char] = Trie()\n",
        "            current = current.childs[char]\n",
        "        current.end = True\n",
        "\n",
        "    def insert_string(self, string: str, separator: str = ' ') -> None:\n",
        "        \"\"\"Insert words in a string into the Trie\"\"\"\n",
        "        for word in string.split(separator):\n",
        "            self.insert(word)\n",
        "\n",
        "    def insert_list_of_words(self, list_of_words: list[str]) -> None:\n",
        "        \"\"\"Insert list of words into the Trie\"\"\"\n",
        "        for word in list_of_words:\n",
        "            self.insert(word)\n",
        "\n",
        "    def delete(self, word: str) -> None:\n",
        "        \"\"\"Delete a word in the Trie\"\"\"\n",
        "\n",
        "        def _delete(current: Trie, word: str, index: int) -> bool:\n",
        "            if index == len(word):\n",
        "                # If word does not exist\n",
        "                if not current.end:\n",
        "                    return False\n",
        "                current.end = False\n",
        "                return len(current.childs) == 0\n",
        "\n",
        "            char = word[index]\n",
        "            char_node = current.childs.get(char)\n",
        "\n",
        "            # If char not in current trie node\n",
        "            if not char_node:\n",
        "                return False\n",
        "\n",
        "            # Flag to check if node can be deleted\n",
        "            delete_current = _delete(char_node, word, index + 1)\n",
        "            if delete_current:\n",
        "                del current.childs[char]\n",
        "                return len(current.childs) == 0\n",
        "\n",
        "            return delete_current\n",
        "\n",
        "        _delete(self, word, 0)\n",
        "\n",
        "    def find(self, word: str) -> bool:\n",
        "        \"\"\"Check if a word in the Trie\"\"\"\n",
        "        current = self\n",
        "        for char in word:\n",
        "            if char not in current.childs:\n",
        "                return False\n",
        "            current = current.childs[char]\n",
        "        return current.end\n",
        "\n",
        "    def search(self, prefix: str) -> None:\n",
        "        \"\"\"Return all words with prefix\"\"\"\n",
        "        current = self\n",
        "        for char in prefix:\n",
        "            if char not in current.childs:\n",
        "                return\n",
        "            current = current.childs[char]\n",
        "\n",
        "        _print_words(current, prefix)\n",
        "\n",
        "def _print_words(current: Trie, word: str = '') -> None:\n",
        "    if current.end:\n",
        "        print(word)\n",
        "\n",
        "    for key, value in current.childs.items():\n",
        "        _print_words(value, word + key)\n",
        "\n",
        "def print_words(current: Trie) -> None:\n",
        "    \"\"\"Print all the words in the current Trie\"\"\"\n",
        "    _print_words(current)"
      ]
    },
    {
      "cell_type": "code",
      "source": [
        "trie = Trie()\n",
        "trie.insert_string('hello world hellium hell hel help helicopter')\n",
        "print(f\"{trie.find('hello') = }\")\n",
        "print(f\"{trie.find('worl') = }\")\n",
        "print(f\"{trie.find('world') = }\")\n",
        "print(f\"{trie.find('worlde') = }\")\n",
        "\n",
        "print('Trie represent:')\n",
        "print_words(trie)\n",
        "trie.delete('worl')\n",
        "trie.delete('world')\n",
        "print('After delete:')\n",
        "print_words(trie)"
      ],
      "metadata": {
        "id": "aI5hpnSxGYZz",
        "outputId": "ef3f5610-6f6c-4a88-f5c9-b396a6cd6533",
        "colab": {
          "base_uri": "https://localhost:8080/"
        }
      },
      "execution_count": 2,
      "outputs": [
        {
          "output_type": "stream",
          "name": "stdout",
          "text": [
            "trie.find('hello') = True\n",
            "trie.find('worl') = False\n",
            "trie.find('world') = True\n",
            "trie.find('worlde') = False\n",
            "Trie represent:\n",
            "hel\n",
            "hell\n",
            "hello\n",
            "hellium\n",
            "help\n",
            "helicopter\n",
            "world\n",
            "After delete:\n",
            "hel\n",
            "hell\n",
            "hello\n",
            "hellium\n",
            "help\n",
            "helicopter\n"
          ]
        }
      ]
    },
    {
      "cell_type": "code",
      "source": [
        "trie.delete('hel')"
      ],
      "metadata": {
        "id": "yMwm_63C3VXu"
      },
      "execution_count": 3,
      "outputs": []
    },
    {
      "cell_type": "code",
      "source": [
        "print_words(trie)"
      ],
      "metadata": {
        "id": "t5Dynxx-3XC0",
        "outputId": "11f22479-1d7b-4b5c-a286-9469a8e08eb0",
        "colab": {
          "base_uri": "https://localhost:8080/"
        }
      },
      "execution_count": 4,
      "outputs": [
        {
          "output_type": "stream",
          "name": "stdout",
          "text": [
            "hell\n",
            "hello\n",
            "hellium\n",
            "help\n",
            "helicopter\n"
          ]
        }
      ]
    },
    {
      "cell_type": "code",
      "source": [
        "trie.search('hell')"
      ],
      "metadata": {
        "id": "e2QEd_hXYNYa",
        "outputId": "2771563a-5579-4396-deb9-3799acebebcf",
        "colab": {
          "base_uri": "https://localhost:8080/"
        }
      },
      "execution_count": 5,
      "outputs": [
        {
          "output_type": "stream",
          "name": "stdout",
          "text": [
            "hell\n",
            "hello\n",
            "hellium\n"
          ]
        }
      ]
    },
    {
      "cell_type": "code",
      "source": [
        "print_words(trie)"
      ],
      "metadata": {
        "id": "C71ew4-zZZgv",
        "outputId": "de42292b-6b2c-4795-c592-f19b43d1b2db",
        "colab": {
          "base_uri": "https://localhost:8080/"
        }
      },
      "execution_count": 6,
      "outputs": [
        {
          "output_type": "stream",
          "name": "stdout",
          "text": [
            "hell\n",
            "hello\n",
            "hellium\n",
            "help\n",
            "helicopter\n"
          ]
        }
      ]
    }
  ],
  "metadata": {
    "colab": {
      "provenance": [],
      "include_colab_link": true
    },
    "kernelspec": {
      "display_name": "Python 3",
      "name": "python3"
    }
  },
  "nbformat": 4,
  "nbformat_minor": 0
}