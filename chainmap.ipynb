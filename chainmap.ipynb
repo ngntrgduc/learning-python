{
  "cells": [
    {
      "cell_type": "markdown",
      "metadata": {
        "id": "view-in-github",
        "colab_type": "text"
      },
      "source": [
        "<a href=\"https://colab.research.google.com/github/ngntrgduc/learning-python/blob/master/chainmap.ipynb\" target=\"_parent\"><img src=\"https://colab.research.google.com/assets/colab-badge.svg\" alt=\"Open In Colab\"/></a>"
      ]
    },
    {
      "cell_type": "markdown",
      "source": [
        "ChainMap: Manage Multiple Contexts Effectively\n",
        "\n",
        "Lookups search the underlying mappings successively until a key is found. In contrast, writes, updates, and deletions only operate on the first mapping.\n",
        "\n",
        "Purpose: multi-layered configuration overrides, and variable stack/scope emulation.\n",
        "\n",
        "The trade-off with ChainMap is that lookups might be slightly slower because it has to check multiple dictionaries in order"
      ],
      "metadata": {
        "id": "vOtxm60u9Lyo"
      }
    },
    {
      "cell_type": "code",
      "execution_count": 1,
      "metadata": {
        "id": "lIYdn1woOS1n"
      },
      "outputs": [],
      "source": [
        "from collections import ChainMap"
      ]
    },
    {
      "cell_type": "code",
      "source": [
        "user_preferences = {\n",
        "    'theme': 'Dark',\n",
        "    'auto_save': True,\n",
        "}\n",
        "\n",
        "default_preferences = {\n",
        "    'theme': 'Light',\n",
        "    'language': 'English',\n",
        "    'font_size': 14,\n",
        "    'auto_save': False,\n",
        "}"
      ],
      "metadata": {
        "id": "Fdih_2Qk4YBX"
      },
      "execution_count": 2,
      "outputs": []
    },
    {
      "cell_type": "code",
      "source": [
        "user_preferences | default_preferences"
      ],
      "metadata": {
        "id": "3HrpR2rr5W2_",
        "outputId": "2d9befe1-7f56-4365-b49c-55a21a260a6f",
        "colab": {
          "base_uri": "https://localhost:8080/"
        }
      },
      "execution_count": 3,
      "outputs": [
        {
          "output_type": "execute_result",
          "data": {
            "text/plain": [
              "{'theme': 'Light', 'auto_save': False, 'language': 'English', 'font_size': 14}"
            ]
          },
          "metadata": {},
          "execution_count": 3
        }
      ]
    },
    {
      "cell_type": "code",
      "source": [
        "{**default_preferences, **user_preferences} # create new dict"
      ],
      "metadata": {
        "colab": {
          "base_uri": "https://localhost:8080/"
        },
        "id": "-CxQwU0096HS",
        "outputId": "b49f8ffc-16e9-4449-f676-3f53dd6f2999"
      },
      "execution_count": 4,
      "outputs": [
        {
          "output_type": "execute_result",
          "data": {
            "text/plain": [
              "{'theme': 'Dark', 'language': 'English', 'font_size': 14, 'auto_save': True}"
            ]
          },
          "metadata": {},
          "execution_count": 4
        }
      ]
    },
    {
      "cell_type": "markdown",
      "source": [
        "Merging dictionaries creates a snapshot copy. Any changes to the original dictionaries do not affect the merged dictionary."
      ],
      "metadata": {
        "id": "-4YOsV5IBhbA"
      }
    },
    {
      "cell_type": "code",
      "source": [
        "cm = ChainMap(user_preferences, default_preferences)\n",
        "print(cm)"
      ],
      "metadata": {
        "id": "f7wHrjMu5Ipv",
        "outputId": "1c7a654b-c12c-4bc2-eafb-6767addcc424",
        "colab": {
          "base_uri": "https://localhost:8080/"
        }
      },
      "execution_count": 5,
      "outputs": [
        {
          "output_type": "stream",
          "name": "stdout",
          "text": [
            "ChainMap({'theme': 'Dark', 'auto_save': True}, {'theme': 'Light', 'language': 'English', 'font_size': 14, 'auto_save': False})\n"
          ]
        }
      ]
    },
    {
      "cell_type": "markdown",
      "source": [
        "### Attributes"
      ],
      "metadata": {
        "id": "5YYvIST1DDx3"
      }
    },
    {
      "cell_type": "markdown",
      "source": [
        "The underlying mappings are stored in a list. That list is public and can be accessed or updated using the maps attribute."
      ],
      "metadata": {
        "id": "x7y8aMuuFUmW"
      }
    },
    {
      "cell_type": "code",
      "source": [
        "cm.maps"
      ],
      "metadata": {
        "colab": {
          "base_uri": "https://localhost:8080/"
        },
        "id": "tnb7NG6oDFvk",
        "outputId": "967463ef-433a-4087-b5a9-0a7d17d60a03"
      },
      "execution_count": 6,
      "outputs": [
        {
          "output_type": "execute_result",
          "data": {
            "text/plain": [
              "[{'theme': 'Dark', 'auto_save': True},\n",
              " {'theme': 'Light',\n",
              "  'language': 'English',\n",
              "  'font_size': 14,\n",
              "  'auto_save': False}]"
            ]
          },
          "metadata": {},
          "execution_count": 6
        }
      ]
    },
    {
      "cell_type": "code",
      "source": [
        "cm.parents"
      ],
      "metadata": {
        "colab": {
          "base_uri": "https://localhost:8080/"
        },
        "id": "VwEBPiKg9OYp",
        "outputId": "80b402e5-51d6-400e-af70-ec426841d229"
      },
      "execution_count": 7,
      "outputs": [
        {
          "output_type": "execute_result",
          "data": {
            "text/plain": [
              "ChainMap({'theme': 'Light', 'language': 'English', 'font_size': 14, 'auto_save': False})"
            ]
          },
          "metadata": {},
          "execution_count": 7
        }
      ]
    },
    {
      "cell_type": "markdown",
      "source": [
        "If one of the underlying mappings gets updated, those changes will be reflected in ChainMap"
      ],
      "metadata": {
        "id": "LqsfFcwdFc7K"
      }
    },
    {
      "cell_type": "code",
      "source": [
        "user_preferences['font_size'] = 16\n",
        "print(f'{user_preferences = }')\n",
        "print(f'{cm = }')"
      ],
      "metadata": {
        "colab": {
          "base_uri": "https://localhost:8080/"
        },
        "id": "PjuLWTADA8hY",
        "outputId": "0a4de604-18c3-4e3b-efcd-85a4b77f699a"
      },
      "execution_count": 8,
      "outputs": [
        {
          "output_type": "stream",
          "name": "stdout",
          "text": [
            "user_preferences = {'theme': 'Dark', 'auto_save': True, 'font_size': 16}\n",
            "cm = ChainMap({'theme': 'Dark', 'auto_save': True, 'font_size': 16}, {'theme': 'Light', 'language': 'English', 'font_size': 14, 'auto_save': False})\n"
          ]
        }
      ]
    },
    {
      "cell_type": "code",
      "source": [
        "def test(key, dictionary, chainmap):\n",
        "    \"\"\"Trying to get key in both dictionary and ChainMap\"\"\"\n",
        "    try:\n",
        "        print(f\"dictionary['{key}'] -> {dictionary[key]}\")\n",
        "    except KeyError:\n",
        "        print(f\"Could not get '{key}' in dictionary\")\n",
        "\n",
        "    try:\n",
        "        print(f\"ChainMap['{key}'] -> {chainmap[key]}\")\n",
        "    except KeyError:\n",
        "        print(f\"Could not get '{key}' in ChainMap\")\n",
        ""
      ],
      "metadata": {
        "id": "guqLoxgU-K0z"
      },
      "execution_count": 9,
      "outputs": []
    },
    {
      "cell_type": "code",
      "source": [
        "test('theme', user_preferences, cm)"
      ],
      "metadata": {
        "id": "RL-A10A65NRu",
        "outputId": "34bcdf78-0d26-4ab7-e7bc-110cd55e27e6",
        "colab": {
          "base_uri": "https://localhost:8080/"
        }
      },
      "execution_count": 10,
      "outputs": [
        {
          "output_type": "stream",
          "name": "stdout",
          "text": [
            "dictionary['theme'] -> Dark\n",
            "ChainMap['theme'] -> Dark\n"
          ]
        }
      ]
    },
    {
      "cell_type": "code",
      "source": [
        "test('language', user_preferences, cm)"
      ],
      "metadata": {
        "id": "5IUxLLh475Pk",
        "outputId": "1172ce85-f744-435a-e5b2-1b6609c63570",
        "colab": {
          "base_uri": "https://localhost:8080/"
        }
      },
      "execution_count": 11,
      "outputs": [
        {
          "output_type": "stream",
          "name": "stdout",
          "text": [
            "Could not get 'language' in dictionary\n",
            "ChainMap['language'] -> English\n"
          ]
        }
      ]
    },
    {
      "cell_type": "code",
      "source": [
        "test('unknow_key', user_preferences, cm)"
      ],
      "metadata": {
        "colab": {
          "base_uri": "https://localhost:8080/"
        },
        "id": "aezVbnAV9ax3",
        "outputId": "12984239-8bf1-486a-f648-dcbf964bfbef"
      },
      "execution_count": 12,
      "outputs": [
        {
          "output_type": "stream",
          "name": "stdout",
          "text": [
            "Could not get 'unknow_key' in dictionary\n",
            "Could not get 'unknow_key' in ChainMap\n"
          ]
        }
      ]
    },
    {
      "cell_type": "markdown",
      "source": [
        "### Shielding Other Dictionaries"
      ],
      "metadata": {
        "id": "TyrENfggCOds"
      }
    },
    {
      "cell_type": "markdown",
      "source": [
        "useful in scenarios where you want to allow updates while preserving the integrity of the original dictionaries."
      ],
      "metadata": {
        "id": "_OEGWLRKCgc2"
      }
    },
    {
      "cell_type": "code",
      "source": [
        "new_cm = cm.new_child({'font_size': 10, 'theme': 'Catppuccin'})\n",
        "new_cm"
      ],
      "metadata": {
        "colab": {
          "base_uri": "https://localhost:8080/"
        },
        "id": "gMSq6INDFl5W",
        "outputId": "026d3eb2-75f1-4cbc-b47c-c4ed3310997c"
      },
      "execution_count": 13,
      "outputs": [
        {
          "output_type": "execute_result",
          "data": {
            "text/plain": [
              "ChainMap({'font_size': 10, 'theme': 'Catppuccin'}, {'theme': 'Dark', 'auto_save': True, 'font_size': 16}, {'theme': 'Light', 'language': 'English', 'font_size': 14, 'auto_save': False})"
            ]
          },
          "metadata": {},
          "execution_count": 13
        }
      ]
    },
    {
      "cell_type": "code",
      "source": [
        "new_cm['rulers'] = 80\n",
        "new_cm"
      ],
      "metadata": {
        "colab": {
          "base_uri": "https://localhost:8080/"
        },
        "id": "pInt3riOHTOO",
        "outputId": "429dc8fe-006b-44d9-a4c1-8ffcb106539a"
      },
      "execution_count": 14,
      "outputs": [
        {
          "output_type": "execute_result",
          "data": {
            "text/plain": [
              "ChainMap({'font_size': 10, 'theme': 'Catppuccin', 'rulers': 80}, {'theme': 'Dark', 'auto_save': True, 'font_size': 16}, {'theme': 'Light', 'language': 'English', 'font_size': 14, 'auto_save': False})"
            ]
          },
          "metadata": {},
          "execution_count": 14
        }
      ]
    }
  ],
  "metadata": {
    "colab": {
      "provenance": [],
      "include_colab_link": true
    },
    "kernelspec": {
      "display_name": "Python 3",
      "name": "python3"
    }
  },
  "nbformat": 4,
  "nbformat_minor": 0
}