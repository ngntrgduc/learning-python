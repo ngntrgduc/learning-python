{
  "cells": [
    {
      "cell_type": "markdown",
      "metadata": {
        "id": "view-in-github",
        "colab_type": "text"
      },
      "source": [
        "<a href=\"https://colab.research.google.com/github/ngntrgduc/learning-python/blob/master/context_manager.ipynb\" target=\"_parent\"><img src=\"https://colab.research.google.com/assets/colab-badge.svg\" alt=\"Open In Colab\"/></a>"
      ]
    },
    {
      "cell_type": "code",
      "source": [
        "import os\n",
        "import contextlib"
      ],
      "metadata": {
        "id": "ncch2HF4z1Mg"
      },
      "execution_count": 1,
      "outputs": []
    },
    {
      "cell_type": "code",
      "execution_count": 2,
      "metadata": {
        "id": "lIYdn1woOS1n"
      },
      "outputs": [],
      "source": [
        "class Test():\n",
        "    def __init__(self):\n",
        "        self.a = 1\n",
        "        print('Init')\n",
        "\n",
        "    def __enter__(self):\n",
        "        self.a = 2\n",
        "        print('__enter__ called, change to 2')\n",
        "        return self.a\n",
        "\n",
        "    def __exit__(self, exc_type, exc_val, exc_tb):\n",
        "        self.a = 0\n",
        "        print('Done process')"
      ]
    },
    {
      "cell_type": "code",
      "source": [
        "n = Test()"
      ],
      "metadata": {
        "id": "sDlKjRC5oa_5",
        "outputId": "09b82d23-8202-4fcc-e166-676e93b3965b",
        "colab": {
          "base_uri": "https://localhost:8080/"
        }
      },
      "execution_count": 3,
      "outputs": [
        {
          "output_type": "stream",
          "name": "stdout",
          "text": [
            "Init\n"
          ]
        }
      ]
    },
    {
      "cell_type": "code",
      "source": [
        "print(f'a before process = {n.a}')"
      ],
      "metadata": {
        "id": "FvfOiTk_rFR3",
        "outputId": "adb31d2b-5d60-4ef6-b168-4aecdba7f94b",
        "colab": {
          "base_uri": "https://localhost:8080/"
        }
      },
      "execution_count": 4,
      "outputs": [
        {
          "output_type": "stream",
          "name": "stdout",
          "text": [
            "a before process = 1\n"
          ]
        }
      ]
    },
    {
      "cell_type": "code",
      "source": [
        "with n as f:\n",
        "    print(f'a = {f}')\n",
        "\n",
        "print(f'a after process = {n.a}')"
      ],
      "metadata": {
        "id": "4CkEuu3wod7c",
        "outputId": "f0972bc1-53d5-4966-eb75-f8753f205d84",
        "colab": {
          "base_uri": "https://localhost:8080/"
        }
      },
      "execution_count": 5,
      "outputs": [
        {
          "output_type": "stream",
          "name": "stdout",
          "text": [
            "__enter__ called, change to 2\n",
            "a = 2\n",
            "Done process\n",
            "a after process = 0\n"
          ]
        }
      ]
    },
    {
      "cell_type": "code",
      "source": [
        "@contextlib.contextmanager\n",
        "def cd(new_dir):\n",
        "    \"\"\"Change directory with flawless context manager\"\"\"\n",
        "    prev_dir = Path().cwd()\n",
        "    try:\n",
        "        os.chdir(new_dir)\n",
        "        yield new_dir\n",
        "    finally:\n",
        "        os.chdir(prev_dir)"
      ],
      "metadata": {
        "id": "-BvN6XWNrIoc"
      },
      "execution_count": 7,
      "outputs": []
    },
    {
      "cell_type": "code",
      "source": [],
      "metadata": {
        "id": "3rnN9SXtzvdD"
      },
      "execution_count": 6,
      "outputs": []
    }
  ],
  "metadata": {
    "colab": {
      "name": "scratchpad",
      "provenance": [],
      "include_colab_link": true
    },
    "kernelspec": {
      "display_name": "Python 3",
      "name": "python3"
    }
  },
  "nbformat": 4,
  "nbformat_minor": 0
}