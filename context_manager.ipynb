{
  "cells": [
    {
      "cell_type": "markdown",
      "metadata": {
        "id": "view-in-github",
        "colab_type": "text"
      },
      "source": [
        "<a href=\"https://colab.research.google.com/github/ngntrgduc/learning-python/blob/master/context_manager.ipynb\" target=\"_parent\"><img src=\"https://colab.research.google.com/assets/colab-badge.svg\" alt=\"Open In Colab\"/></a>"
      ]
    },
    {
      "cell_type": "code",
      "execution_count": 9,
      "metadata": {
        "id": "lIYdn1woOS1n"
      },
      "outputs": [],
      "source": [
        "class Test():\n",
        "    def __init__(self):\n",
        "        self.a = 1\n",
        "        print('Init')\n",
        "\n",
        "    def __enter__(self):\n",
        "        self.a = 2\n",
        "        print('__enter__ called, change to 2')\n",
        "        return self.a\n",
        "\n",
        "    def __exit__(self, exc_type, exc_val, exc_tb):\n",
        "        self.a = 0\n",
        "        print('Done process')"
      ]
    },
    {
      "cell_type": "code",
      "source": [
        "n = Test()"
      ],
      "metadata": {
        "id": "sDlKjRC5oa_5",
        "outputId": "5112dc93-6aa2-4a51-e889-8a3d5c572534",
        "colab": {
          "base_uri": "https://localhost:8080/"
        }
      },
      "execution_count": 12,
      "outputs": [
        {
          "output_type": "stream",
          "name": "stdout",
          "text": [
            "Init\n"
          ]
        }
      ]
    },
    {
      "cell_type": "code",
      "source": [
        "print(f'a before process = {n.a}')"
      ],
      "metadata": {
        "id": "FvfOiTk_rFR3",
        "outputId": "98b07757-c2e5-4299-d2f2-0de24ad5236e",
        "colab": {
          "base_uri": "https://localhost:8080/"
        }
      },
      "execution_count": 13,
      "outputs": [
        {
          "output_type": "stream",
          "name": "stdout",
          "text": [
            "a before process1\n"
          ]
        }
      ]
    },
    {
      "cell_type": "code",
      "source": [
        "with n as f:\n",
        "    print(f'a = {f}')\n",
        "\n",
        "print(f'a after process = {n.a}')"
      ],
      "metadata": {
        "id": "4CkEuu3wod7c",
        "outputId": "edfcae8a-c342-4b25-e962-448949e12e8b",
        "colab": {
          "base_uri": "https://localhost:8080/"
        }
      },
      "execution_count": 15,
      "outputs": [
        {
          "output_type": "stream",
          "name": "stdout",
          "text": [
            "__enter__ called, change to 2\n",
            "a = 2\n",
            "Done process\n",
            "a after process = 0\n"
          ]
        }
      ]
    },
    {
      "cell_type": "code",
      "source": [],
      "metadata": {
        "id": "-BvN6XWNrIoc"
      },
      "execution_count": null,
      "outputs": []
    }
  ],
  "metadata": {
    "colab": {
      "name": "scratchpad",
      "provenance": [],
      "include_colab_link": true
    },
    "kernelspec": {
      "display_name": "Python 3",
      "name": "python3"
    }
  },
  "nbformat": 4,
  "nbformat_minor": 0
}