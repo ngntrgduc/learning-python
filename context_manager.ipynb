{
  "cells": [
    {
      "cell_type": "markdown",
      "metadata": {
        "id": "view-in-github",
        "colab_type": "text"
      },
      "source": [
        "<a href=\"https://colab.research.google.com/github/ngntrgduc/learning-python/blob/master/context_manager.ipynb\" target=\"_parent\"><img src=\"https://colab.research.google.com/assets/colab-badge.svg\" alt=\"Open In Colab\"/></a>"
      ]
    },
    {
      "cell_type": "code",
      "execution_count": 5,
      "metadata": {
        "id": "lIYdn1woOS1n"
      },
      "outputs": [],
      "source": [
        "class Test():\n",
        "    def __init__(self):\n",
        "        self.a = 1\n",
        "        print('Init')\n",
        "\n",
        "    def __enter__(self):\n",
        "        self.a = 2\n",
        "        print('Enter , change to 2')\n",
        "\n",
        "    def __exit__(self, exc_type, exc_val, exc_tb):\n",
        "        self.a = 0\n",
        "        print('Done procecss')"
      ]
    },
    {
      "cell_type": "code",
      "source": [
        "n = Test()"
      ],
      "metadata": {
        "id": "sDlKjRC5oa_5",
        "outputId": "2c745235-105f-4e7e-eaab-1f341b98edcc",
        "colab": {
          "base_uri": "https://localhost:8080/"
        }
      },
      "execution_count": 6,
      "outputs": [
        {
          "output_type": "stream",
          "name": "stdout",
          "text": [
            "Init\n"
          ]
        }
      ]
    },
    {
      "cell_type": "code",
      "source": [
        "with n as f:\n",
        "    print('processing')\n",
        "n.a"
      ],
      "metadata": {
        "id": "4CkEuu3wod7c",
        "outputId": "83181759-5414-49db-e166-2a9f9367f733",
        "colab": {
          "base_uri": "https://localhost:8080/"
        }
      },
      "execution_count": 8,
      "outputs": [
        {
          "output_type": "stream",
          "name": "stdout",
          "text": [
            "Enter , change to 2\n",
            "processing\n",
            "Done procecss\n"
          ]
        },
        {
          "output_type": "execute_result",
          "data": {
            "text/plain": [
              "0"
            ]
          },
          "metadata": {},
          "execution_count": 8
        }
      ]
    },
    {
      "cell_type": "code",
      "source": [],
      "metadata": {
        "id": "ctp2i1ONou06"
      },
      "execution_count": null,
      "outputs": []
    }
  ],
  "metadata": {
    "colab": {
      "name": "scratchpad",
      "provenance": [],
      "include_colab_link": true
    },
    "kernelspec": {
      "display_name": "Python 3",
      "name": "python3"
    }
  },
  "nbformat": 4,
  "nbformat_minor": 0
}