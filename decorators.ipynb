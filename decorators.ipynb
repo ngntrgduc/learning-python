{
  "nbformat": 4,
  "nbformat_minor": 0,
  "metadata": {
    "colab": {
      "provenance": [],
      "authorship_tag": "ABX9TyMvH+MVUlMtle+o21Su4i7d",
      "include_colab_link": true
    },
    "kernelspec": {
      "name": "python3",
      "display_name": "Python 3"
    },
    "language_info": {
      "name": "python"
    }
  },
  "cells": [
    {
      "cell_type": "markdown",
      "metadata": {
        "id": "view-in-github",
        "colab_type": "text"
      },
      "source": [
        "<a href=\"https://colab.research.google.com/github/ngntrgduc/learning-python/blob/master/decorators.ipynb\" target=\"_parent\"><img src=\"https://colab.research.google.com/assets/colab-badge.svg\" alt=\"Open In Colab\"/></a>"
      ]
    },
    {
      "cell_type": "code",
      "execution_count": 11,
      "metadata": {
        "id": "5itPe_ONbRDt"
      },
      "outputs": [],
      "source": [
        "import time\n",
        "import random\n",
        "from functools import wraps\n",
        "\n",
        "def stopwatch(f):\n",
        "    @wraps(f)\n",
        "    def func(*args, **kwargs):\n",
        "        tic = time.time()\n",
        "        result = f(*args, **kwargs)\n",
        "        print(f'Took {time.time() - tic} secs')\n",
        "        return result\n",
        "    return func"
      ]
    },
    {
      "cell_type": "code",
      "source": [
        "@stopwatch\n",
        "def sleep_random():\n",
        "    \"\"\"sleep random `s` secs\"\"\"\n",
        "    time.sleep(random.random())\n",
        "    return 'Done'"
      ],
      "metadata": {
        "id": "qP0kVp5Ybqoz"
      },
      "execution_count": 12,
      "outputs": []
    },
    {
      "cell_type": "code",
      "source": [
        "sleep_random()"
      ],
      "metadata": {
        "colab": {
          "base_uri": "https://localhost:8080/",
          "height": 53
        },
        "id": "nKOA9xPUb06U",
        "outputId": "f7d937ef-b6ce-40ba-e33f-d6b42d57dcfd"
      },
      "execution_count": 13,
      "outputs": [
        {
          "output_type": "stream",
          "name": "stdout",
          "text": [
            "Took 0.1002817153930664 secs\n"
          ]
        },
        {
          "output_type": "execute_result",
          "data": {
            "text/plain": [
              "'Done'"
            ],
            "application/vnd.google.colaboratory.intrinsic+json": {
              "type": "string"
            }
          },
          "metadata": {},
          "execution_count": 13
        }
      ]
    },
    {
      "cell_type": "code",
      "source": [
        "help(sleep_random)"
      ],
      "metadata": {
        "colab": {
          "base_uri": "https://localhost:8080/"
        },
        "id": "sfZPvr1UdYYJ",
        "outputId": "372078ff-ea2b-44f7-e86d-13088d0f39c8"
      },
      "execution_count": 14,
      "outputs": [
        {
          "output_type": "stream",
          "name": "stdout",
          "text": [
            "Help on function sleep_random in module __main__:\n",
            "\n",
            "sleep_random()\n",
            "    sleep random `s` secs\n",
            "\n"
          ]
        }
      ]
    }
  ]
}