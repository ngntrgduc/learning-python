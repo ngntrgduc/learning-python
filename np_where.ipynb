{
  "nbformat": 4,
  "nbformat_minor": 0,
  "metadata": {
    "colab": {
      "name": "np.where.ipynb",
      "provenance": [],
      "authorship_tag": "ABX9TyM6A/HVdzsrWSqdGfSC0cBi",
      "include_colab_link": true
    },
    "kernelspec": {
      "name": "python3",
      "display_name": "Python 3"
    },
    "language_info": {
      "name": "python"
    }
  },
  "cells": [
    {
      "cell_type": "markdown",
      "metadata": {
        "id": "view-in-github",
        "colab_type": "text"
      },
      "source": [
        "<a href=\"https://colab.research.google.com/github/ngntrgduc/learning-python/blob/master/np_where.ipynb\" target=\"_parent\"><img src=\"https://colab.research.google.com/assets/colab-badge.svg\" alt=\"Open In Colab\"/></a>"
      ]
    },
    {
      "cell_type": "code",
      "execution_count": 1,
      "metadata": {
        "id": "XSOA1d81jVlV"
      },
      "outputs": [],
      "source": [
        "import numpy as np\n",
        "import pandas as pd"
      ]
    },
    {
      "cell_type": "code",
      "source": [
        "a = np.array([1, 2, 3, 4, 5, 6, 7, 8, 9])\n",
        "np.where(a >= 5, a, a * 10)"
      ],
      "metadata": {
        "colab": {
          "base_uri": "https://localhost:8080/"
        },
        "id": "Amvy5KXBl-VA",
        "outputId": "2b06eddf-6566-47ba-df70-9e959c1274ad"
      },
      "execution_count": 10,
      "outputs": [
        {
          "output_type": "execute_result",
          "data": {
            "text/plain": [
              "array([10, 20, 30, 40,  5,  6,  7,  8,  9])"
            ]
          },
          "metadata": {},
          "execution_count": 10
        }
      ]
    },
    {
      "cell_type": "code",
      "source": [
        "np.where([[True, False], [True, True]],\n",
        "         [[1, 2], [3, 4]],\n",
        "         [[0, 3], [7, 6]])"
      ],
      "metadata": {
        "id": "aV5no2equyGY",
        "outputId": "c11ffcdc-385f-46b3-b728-dbc88d92b081",
        "colab": {
          "base_uri": "https://localhost:8080/"
        }
      },
      "execution_count": 9,
      "outputs": [
        {
          "output_type": "execute_result",
          "data": {
            "text/plain": [
              "array([[1, 3],\n",
              "       [3, 4]])"
            ]
          },
          "metadata": {},
          "execution_count": 9
        }
      ]
    },
    {
      "cell_type": "code",
      "source": [
        "b = np.array([[0, 1, 2],\n",
        "              [0, 2, 4],\n",
        "              [0, 3, 6]])\n",
        "np.where(b % 2 == 0, b, 0)"
      ],
      "metadata": {
        "id": "xo_xZsohwfkU",
        "outputId": "cf6cf0a6-d7d1-407d-f62a-bbc563d08f0c",
        "colab": {
          "base_uri": "https://localhost:8080/"
        }
      },
      "execution_count": 15,
      "outputs": [
        {
          "output_type": "execute_result",
          "data": {
            "text/plain": [
              "array([[0, 0, 2],\n",
              "       [0, 2, 4],\n",
              "       [0, 0, 6]])"
            ]
          },
          "metadata": {},
          "execution_count": 15
        }
      ]
    }
  ]
}