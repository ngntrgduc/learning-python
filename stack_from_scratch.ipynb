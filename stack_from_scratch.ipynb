{
  "nbformat": 4,
  "nbformat_minor": 0,
  "metadata": {
    "colab": {
      "name": "stack_from_scratch",
      "provenance": [],
      "authorship_tag": "ABX9TyNDJfN7ZezqEo2p7vdeVLPY",
      "include_colab_link": true
    },
    "kernelspec": {
      "name": "python3",
      "display_name": "Python 3"
    },
    "language_info": {
      "name": "python"
    }
  },
  "cells": [
    {
      "cell_type": "markdown",
      "metadata": {
        "id": "view-in-github",
        "colab_type": "text"
      },
      "source": [
        "<a href=\"https://colab.research.google.com/github/ngntrgduc/learning-python/blob/master/stack_from_scratch.ipynb\" target=\"_parent\"><img src=\"https://colab.research.google.com/assets/colab-badge.svg\" alt=\"Open In Colab\"/></a>"
      ]
    },
    {
      "cell_type": "code",
      "execution_count": 1,
      "metadata": {
        "id": "kGzHYvRgk3cS"
      },
      "outputs": [],
      "source": [
        "\"\"\"Stack data structure implement from scratch\"\"\"\n",
        "\n",
        "class Stack:\n",
        "    def __init__(self):\n",
        "        \"\"\"Create an empty stack\"\"\"\n",
        "        self._data = []\n",
        "\n",
        "    def __len__(self):\n",
        "        \"\"\"Return the number of elements in the stack\"\"\"\n",
        "        return len(self._data)\n",
        "    \n",
        "    def is_empty(self):\n",
        "        \"\"\"Return True if the stack is empty and False otherwise\"\"\"\n",
        "        return len(self._data) == 0\n",
        "    \n",
        "    def push(self, x):\n",
        "        \"\"\"Add element x to the top of the stack\"\"\"\n",
        "        self._data.append(x)\n",
        "    \n",
        "    def pop(self):\n",
        "        \"\"\"Pop the top element from the stack\"\"\"\n",
        "        assert len(self._data) > 0, 'Stack is empty!'\n",
        "        self._data.pop()\n",
        "    \n",
        "    def show(self):\n",
        "        \"\"\"Show stack\"\"\"\n",
        "        print(self._data)\n",
        "    \n",
        "    def top(self):\n",
        "        \"\"\"Return the top element of the stack\"\"\"\n",
        "        assert len(self._data) > 0, 'Stack is empty!'\n",
        "        return self._data[-1]"
      ]
    },
    {
      "cell_type": "code",
      "source": [
        "help(Stack)"
      ],
      "metadata": {
        "colab": {
          "base_uri": "https://localhost:8080/"
        },
        "id": "wjd1Zn6z5poq",
        "outputId": "1fc4ebba-06ef-4955-c5cb-646fdf985c4f"
      },
      "execution_count": 2,
      "outputs": [
        {
          "output_type": "stream",
          "name": "stdout",
          "text": [
            "Help on class Stack in module __main__:\n",
            "\n",
            "class Stack(builtins.object)\n",
            " |  Methods defined here:\n",
            " |  \n",
            " |  __init__(self)\n",
            " |      Create an empty stack\n",
            " |  \n",
            " |  __len__(self)\n",
            " |      Return the number of elements in the stack\n",
            " |  \n",
            " |  is_empty(self)\n",
            " |      Return True if the stack is empty and False otherwise\n",
            " |  \n",
            " |  pop(self)\n",
            " |      Pop the top element from the stack\n",
            " |  \n",
            " |  push(self, x)\n",
            " |      Add element x to the top of the stack\n",
            " |  \n",
            " |  show(self)\n",
            " |      Show stack\n",
            " |  \n",
            " |  top(self)\n",
            " |      Return the top element of the stack\n",
            " |  \n",
            " |  ----------------------------------------------------------------------\n",
            " |  Data descriptors defined here:\n",
            " |  \n",
            " |  __dict__\n",
            " |      dictionary for instance variables (if defined)\n",
            " |  \n",
            " |  __weakref__\n",
            " |      list of weak references to the object (if defined)\n",
            "\n"
          ]
        }
      ]
    },
    {
      "cell_type": "code",
      "source": [
        "a = Stack()\n",
        "a.push(1)\n",
        "a.show()\n",
        "print(a.is_empty())\n",
        "a.push(2)\n",
        "a.show()\n",
        "print('Length of Stack :', len(a))\n",
        "print('Empty') if a.is_empty() else print('Not empty')\n",
        "print(a.top())\n",
        "a.pop()\n",
        "a.pop()\n",
        "a.show()\n",
        "a.pop()"
      ],
      "metadata": {
        "colab": {
          "base_uri": "https://localhost:8080/",
          "height": 443
        },
        "id": "DhrovKiSl2rs",
        "outputId": "6ad7a142-c23c-4e5c-cdc9-6ef9be3514c0"
      },
      "execution_count": 4,
      "outputs": [
        {
          "output_type": "stream",
          "name": "stdout",
          "text": [
            "[1]\n",
            "False\n",
            "[1, 2]\n",
            "Length of Stack : 2\n",
            "Not empty\n",
            "2\n",
            "[]\n"
          ]
        },
        {
          "output_type": "error",
          "ename": "AssertionError",
          "evalue": "ignored",
          "traceback": [
            "\u001b[0;31m---------------------------------------------------------------------------\u001b[0m",
            "\u001b[0;31mAssertionError\u001b[0m                            Traceback (most recent call last)",
            "\u001b[0;32m<ipython-input-4-6ec3f733028f>\u001b[0m in \u001b[0;36m<module>\u001b[0;34m()\u001b[0m\n\u001b[1;32m     11\u001b[0m \u001b[0ma\u001b[0m\u001b[0;34m.\u001b[0m\u001b[0mpop\u001b[0m\u001b[0;34m(\u001b[0m\u001b[0;34m)\u001b[0m\u001b[0;34m\u001b[0m\u001b[0;34m\u001b[0m\u001b[0m\n\u001b[1;32m     12\u001b[0m \u001b[0ma\u001b[0m\u001b[0;34m.\u001b[0m\u001b[0mshow\u001b[0m\u001b[0;34m(\u001b[0m\u001b[0;34m)\u001b[0m\u001b[0;34m\u001b[0m\u001b[0;34m\u001b[0m\u001b[0m\n\u001b[0;32m---> 13\u001b[0;31m \u001b[0ma\u001b[0m\u001b[0;34m.\u001b[0m\u001b[0mpop\u001b[0m\u001b[0;34m(\u001b[0m\u001b[0;34m)\u001b[0m\u001b[0;34m\u001b[0m\u001b[0;34m\u001b[0m\u001b[0m\n\u001b[0m",
            "\u001b[0;32m<ipython-input-1-e1148d939ece>\u001b[0m in \u001b[0;36mpop\u001b[0;34m(self)\u001b[0m\n\u001b[1;32m     20\u001b[0m     \u001b[0;32mdef\u001b[0m \u001b[0mpop\u001b[0m\u001b[0;34m(\u001b[0m\u001b[0mself\u001b[0m\u001b[0;34m)\u001b[0m\u001b[0;34m:\u001b[0m\u001b[0;34m\u001b[0m\u001b[0;34m\u001b[0m\u001b[0m\n\u001b[1;32m     21\u001b[0m         \u001b[0;34m\"\"\"Pop the top element from the stack\"\"\"\u001b[0m\u001b[0;34m\u001b[0m\u001b[0;34m\u001b[0m\u001b[0m\n\u001b[0;32m---> 22\u001b[0;31m         \u001b[0;32massert\u001b[0m \u001b[0mlen\u001b[0m\u001b[0;34m(\u001b[0m\u001b[0mself\u001b[0m\u001b[0;34m.\u001b[0m\u001b[0m_data\u001b[0m\u001b[0;34m)\u001b[0m \u001b[0;34m>\u001b[0m \u001b[0;36m0\u001b[0m\u001b[0;34m,\u001b[0m \u001b[0;34m'Stack is empty!'\u001b[0m\u001b[0;34m\u001b[0m\u001b[0;34m\u001b[0m\u001b[0m\n\u001b[0m\u001b[1;32m     23\u001b[0m         \u001b[0mself\u001b[0m\u001b[0;34m.\u001b[0m\u001b[0m_data\u001b[0m\u001b[0;34m.\u001b[0m\u001b[0mpop\u001b[0m\u001b[0;34m(\u001b[0m\u001b[0;34m)\u001b[0m\u001b[0;34m\u001b[0m\u001b[0;34m\u001b[0m\u001b[0m\n\u001b[1;32m     24\u001b[0m \u001b[0;34m\u001b[0m\u001b[0m\n",
            "\u001b[0;31mAssertionError\u001b[0m: Stack is empty!"
          ]
        }
      ]
    }
  ]
}