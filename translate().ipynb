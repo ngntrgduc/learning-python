{
  "nbformat": 4,
  "nbformat_minor": 0,
  "metadata": {
    "colab": {
      "name": "translate()",
      "provenance": [],
      "authorship_tag": "ABX9TyNP3cJ7kpemsfk48Qxuf+rS",
      "include_colab_link": true
    },
    "kernelspec": {
      "name": "python3",
      "display_name": "Python 3"
    },
    "language_info": {
      "name": "python"
    }
  },
  "cells": [
    {
      "cell_type": "markdown",
      "metadata": {
        "id": "view-in-github",
        "colab_type": "text"
      },
      "source": [
        "<a href=\"https://colab.research.google.com/github/ngntrgduc/learning-python/blob/master/translate().ipynb\" target=\"_parent\"><img src=\"https://colab.research.google.com/assets/colab-badge.svg\" alt=\"Open In Colab\"/></a>"
      ]
    },
    {
      "cell_type": "code",
      "execution_count": 6,
      "metadata": {
        "colab": {
          "base_uri": "https://localhost:8080/"
        },
        "id": "z7wPUuxoJlvU",
        "outputId": "8281e7ba-07a1-4446-d996-f61f17a01da3"
      },
      "outputs": [
        {
          "output_type": "stream",
          "name": "stdout",
          "text": [
            "helle werld\n",
            "bebeee\n"
          ]
        }
      ],
      "source": [
        "a = \"hello world\"\n",
        "b = a.maketrans(\"o\", \"e\")\n",
        "c = a.translate(b)\n",
        "print(c)\n",
        "\n",
        "txt = \"babeaa\"\n",
        "my_trans = txt.maketrans(\"a\", \"e\")\n",
        "print(txt.translate(my_trans))"
      ]
    },
    {
      "cell_type": "markdown",
      "source": [
        "The third parameter in the mapping table describes characters that you want to remove from the string:"
      ],
      "metadata": {
        "id": "1ojO4IpmKxwx"
      }
    },
    {
      "cell_type": "code",
      "source": [
        "txt = \"Good night!\"\n",
        "x = \"night\"\n",
        "y = \"Luck!\"\n",
        "z = \"Good \"\n",
        "mytable = txt.maketrans(x, y, z)\n",
        "print(txt.translate(mytable))\n"
      ],
      "metadata": {
        "colab": {
          "base_uri": "https://localhost:8080/"
        },
        "id": "YjVbNThKKzE-",
        "outputId": "4a23fdbe-5b8f-437b-c7a0-2087f7807beb"
      },
      "execution_count": 10,
      "outputs": [
        {
          "output_type": "stream",
          "name": "stdout",
          "text": [
            "Luck!!\n"
          ]
        }
      ]
    }
  ]
}